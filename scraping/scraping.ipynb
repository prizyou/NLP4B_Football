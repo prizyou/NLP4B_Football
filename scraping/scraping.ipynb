{
 "cells": [
  {
   "cell_type": "code",
   "execution_count": 35,
   "metadata": {},
   "outputs": [],
   "source": [
    "import praw\n",
    "import pandas as pd\n",
    "\n",
    "reddit = praw.Reddit(client_id='Z2oVhG8VMNytne7QB5RmGA', client_secret='1JGNREK7FHIsbay72Z-aaMfWYhGrMQ', user_agent='NLP')\n",
    "\n",
    "redditIds=[\"17ye8xb\",\"181cdpk\"]\n",
    "\n",
    "for id in redditIds:\n",
    "    post = reddit.submission(id=id)\n",
    "    comments = post.comments\n",
    "    df = []\n",
    "\n",
    "\n",
    "    for comment in post.comments:\n",
    "        df.append(comment.body)\n",
    "\n",
    "    df = pd.DataFrame(df,columns=[\"comment\"])\n",
    "    df.to_csv(path_or_buf=r\"C:\\Users\\aliki\\Desktop\\NLP\\NLP4B_Football\\scraping\\redditComments.csv\", mode='a', header=False)\n",
    "\n"
   ]
  }
 ],
 "metadata": {
  "kernelspec": {
   "display_name": "NLPProject",
   "language": "python",
   "name": "python3"
  },
  "language_info": {
   "codemirror_mode": {
    "name": "ipython",
    "version": 3
   },
   "file_extension": ".py",
   "mimetype": "text/x-python",
   "name": "python",
   "nbconvert_exporter": "python",
   "pygments_lexer": "ipython3",
   "version": "3.10.13"
  }
 },
 "nbformat": 4,
 "nbformat_minor": 2
}
