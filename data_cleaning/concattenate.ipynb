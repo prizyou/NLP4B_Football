{
 "cells": [
  {
   "cell_type": "code",
   "execution_count": 1,
   "metadata": {},
   "outputs": [],
   "source": [
    "import pandas as pd"
   ]
  },
  {
   "cell_type": "code",
   "execution_count": 6,
   "metadata": {},
   "outputs": [],
   "source": [
    "files = [r\"C:\\VSCode\\NLP4B_Football\\data_cleaning\\kaggle\\Kaggle_clean_and_labeled.xlsx\",\n",
    "         r\"C:\\VSCode\\NLP4B_Football\\data_cleaning\\youtube\\youtube_cleaned_for_label.xlsx\",\n",
    "         r\"C:\\VSCode\\NLP4B_Football\\data_cleaning\\clean_not_labeled_data\\reddit_cleaned_for_label.xlsx\"]\n",
    "data = []\n",
    "\n",
    "for file in files:\n",
    "    data.append(pd.read_excel(file))\n",
    "\n",
    "df = pd.concat(data)\n",
    "\n",
    "df.to_excel(r\"data_to_label.xlsx\", index=False)"
   ]
  }
 ],
 "metadata": {
  "kernelspec": {
   "display_name": "NLP4B_Project",
   "language": "python",
   "name": "python3"
  },
  "language_info": {
   "codemirror_mode": {
    "name": "ipython",
    "version": 3
   },
   "file_extension": ".py",
   "mimetype": "text/x-python",
   "name": "python",
   "nbconvert_exporter": "python",
   "pygments_lexer": "ipython3",
   "version": "3.10.13"
  }
 },
 "nbformat": 4,
 "nbformat_minor": 2
}
