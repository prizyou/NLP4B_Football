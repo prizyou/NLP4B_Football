{
 "cells": [
  {
   "cell_type": "markdown",
   "metadata": {},
   "source": [
    "This line of code imports the pandas library and makes it accessible in the script. Pandas is a powerful library in Python used for data manipulation and analysis, particularly with structured data like tables."
   ]
  },
  {
   "cell_type": "code",
   "execution_count": 134,
   "metadata": {},
   "outputs": [],
   "source": [
    "import pandas as pd"
   ]
  },
  {
   "cell_type": "markdown",
   "metadata": {},
   "source": [
    "\n",
    "This code opens a CSV file located at the specified path and reads its contents into a pandas DataFrame named df. The CSV file is read with semicolon (';') as the delimiter."
   ]
  },
  {
   "cell_type": "code",
   "execution_count": 135,
   "metadata": {},
   "outputs": [],
   "source": [
    "with open(r\"C:\\Users\\janba\\OneDrive\\Dokumente\\Privates\\Studium\\Master\\NLP4B_Football\\web_scraping\\reddit\\redditComments_NEW.csv\", \"r\") as f:\n",
    "    df = pd.read_csv(f, sep=';')"
   ]
  },
  {
   "cell_type": "code",
   "execution_count": 136,
   "metadata": {},
   "outputs": [
    {
     "name": "stdout",
     "output_type": "stream",
     "text": [
      "(1435, 3)\n"
     ]
    },
    {
     "data": {
      "text/html": [
       "<div>\n",
       "<style scoped>\n",
       "    .dataframe tbody tr th:only-of-type {\n",
       "        vertical-align: middle;\n",
       "    }\n",
       "\n",
       "    .dataframe tbody tr th {\n",
       "        vertical-align: top;\n",
       "    }\n",
       "\n",
       "    .dataframe thead th {\n",
       "        text-align: right;\n",
       "    }\n",
       "</style>\n",
       "<table border=\"1\" class=\"dataframe\">\n",
       "  <thead>\n",
       "    <tr style=\"text-align: right;\">\n",
       "      <th></th>\n",
       "      <th>Comment</th>\n",
       "      <th>label</th>\n",
       "      <th>source</th>\n",
       "    </tr>\n",
       "  </thead>\n",
       "  <tbody>\n",
       "    <tr>\n",
       "      <th>0</th>\n",
       "      <td>5 - 0 in the first 30 mins... wow...</td>\n",
       "      <td>NaN</td>\n",
       "      <td>reddit</td>\n",
       "    </tr>\n",
       "    <tr>\n",
       "      <th>1</th>\n",
       "      <td>\"The last time I saw a brazillian get fucked t...</td>\n",
       "      <td>NaN</td>\n",
       "      <td>reddit</td>\n",
       "    </tr>\n",
       "    <tr>\n",
       "      <th>2</th>\n",
       "      <td>Do you know that feeling when you go take a du...</td>\n",
       "      <td>NaN</td>\n",
       "      <td>reddit</td>\n",
       "    </tr>\n",
       "    <tr>\n",
       "      <th>3</th>\n",
       "      <td>[deleted]</td>\n",
       "      <td>NaN</td>\n",
       "      <td>reddit</td>\n",
       "    </tr>\n",
       "    <tr>\n",
       "      <th>4</th>\n",
       "      <td>What the fuck is happening</td>\n",
       "      <td>NaN</td>\n",
       "      <td>reddit</td>\n",
       "    </tr>\n",
       "    <tr>\n",
       "      <th>5</th>\n",
       "      <td>[My reaction to the Germans right now](https:/...</td>\n",
       "      <td>NaN</td>\n",
       "      <td>reddit</td>\n",
       "    </tr>\n",
       "    <tr>\n",
       "      <th>6</th>\n",
       "      <td>http://i.imgur.com/duh3R8r.jpg</td>\n",
       "      <td>NaN</td>\n",
       "      <td>reddit</td>\n",
       "    </tr>\n",
       "    <tr>\n",
       "      <th>7</th>\n",
       "      <td>http://i.minus.com/i8Noum4fZjDPV.gif</td>\n",
       "      <td>NaN</td>\n",
       "      <td>reddit</td>\n",
       "    </tr>\n",
       "    <tr>\n",
       "      <th>8</th>\n",
       "      <td>This is like the Red Wedding of futbol games.</td>\n",
       "      <td>NaN</td>\n",
       "      <td>reddit</td>\n",
       "    </tr>\n",
       "    <tr>\n",
       "      <th>9</th>\n",
       "      <td>German here. Love this team, but WTF Brasilia,...</td>\n",
       "      <td>NaN</td>\n",
       "      <td>reddit</td>\n",
       "    </tr>\n",
       "  </tbody>\n",
       "</table>\n",
       "</div>"
      ],
      "text/plain": [
       "                                             Comment  label  source\n",
       "0               5 - 0 in the first 30 mins... wow...    NaN  reddit\n",
       "1  \"The last time I saw a brazillian get fucked t...    NaN  reddit\n",
       "2  Do you know that feeling when you go take a du...    NaN  reddit\n",
       "3                                          [deleted]    NaN  reddit\n",
       "4                         What the fuck is happening    NaN  reddit\n",
       "5  [My reaction to the Germans right now](https:/...    NaN  reddit\n",
       "6                     http://i.imgur.com/duh3R8r.jpg    NaN  reddit\n",
       "7               http://i.minus.com/i8Noum4fZjDPV.gif    NaN  reddit\n",
       "8     This is like the Red Wedding of futbol games.     NaN  reddit\n",
       "9  German here. Love this team, but WTF Brasilia,...    NaN  reddit"
      ]
     },
     "execution_count": 136,
     "metadata": {},
     "output_type": "execute_result"
    }
   ],
   "source": [
    "print(df.shape)\n",
    "\n",
    "df.head(10)"
   ]
  },
  {
   "cell_type": "markdown",
   "metadata": {},
   "source": [
    "These lines of code remove commas and replace certain characters in the \"Comment\" column of the DataFrame df. The first line removes commas from the comments, while the second and third lines replace typographic apostrophes with standard apostrophes."
   ]
  },
  {
   "cell_type": "code",
   "execution_count": 137,
   "metadata": {},
   "outputs": [],
   "source": [
    "df[\"Comment\"] = df[\"Comment\"].str.replace(',', \"\")\n",
    "df[\"Comment\"] = df[\"Comment\"].str.replace('’', \"'\")\n",
    "df[\"Comment\"] = df[\"Comment\"].str.replace(',', \"\")"
   ]
  },
  {
   "cell_type": "markdown",
   "metadata": {},
   "source": [
    "This code creates a boolean mask latin_letters_mask that checks if each comment in the \"Comment\" column contains any Latin letters (uppercase or lowercase). Then, it filters the DataFrame df to include only rows where the comments contain Latin letters. This filtering ensures that only comments containing Latin characters are retained in the DataFrame."
   ]
  },
  {
   "cell_type": "code",
   "execution_count": 138,
   "metadata": {},
   "outputs": [],
   "source": [
    "latin_letters_mask = df['Comment'].str.contains('[a-zA-Z]')\n",
    "df = df[latin_letters_mask]"
   ]
  },
  {
   "cell_type": "code",
   "execution_count": 139,
   "metadata": {},
   "outputs": [
    {
     "name": "stdout",
     "output_type": "stream",
     "text": [
      "(1431, 3)\n"
     ]
    }
   ],
   "source": [
    "print(df.shape)"
   ]
  },
  {
   "cell_type": "markdown",
   "metadata": {},
   "source": [
    "This line of code filters the DataFrame df to exclude rows where the \"Comment\" column contains the substring \"http\". The tilde (~) operator negates the boolean mask, so only rows where the \"Comment\" column does not contain \"http\" are retained. This filtering removes comments that likely contain URLs or links."
   ]
  },
  {
   "cell_type": "code",
   "execution_count": 140,
   "metadata": {},
   "outputs": [],
   "source": [
    "df = df[~df[\"Comment\"].str.contains(\"http\")]"
   ]
  },
  {
   "cell_type": "code",
   "execution_count": 141,
   "metadata": {},
   "outputs": [
    {
     "name": "stdout",
     "output_type": "stream",
     "text": [
      "(1412, 3)\n"
     ]
    }
   ],
   "source": [
    "print(df.shape)"
   ]
  },
  {
   "cell_type": "markdown",
   "metadata": {},
   "source": [
    "This line of code further filters the DataFrame df to exclude rows where the \"Comment\" column contains the substring \"deleted\". It removes comments that have been deleted or removed from Reddit, ensuring that only valid comments are retained in the DataFrame."
   ]
  },
  {
   "cell_type": "code",
   "execution_count": 142,
   "metadata": {},
   "outputs": [],
   "source": [
    "df = df[~df[\"Comment\"].str.contains(\"deleted\")]"
   ]
  },
  {
   "cell_type": "code",
   "execution_count": 143,
   "metadata": {},
   "outputs": [
    {
     "name": "stdout",
     "output_type": "stream",
     "text": [
      "(1374, 3)\n"
     ]
    }
   ],
   "source": [
    "print(df.shape)"
   ]
  },
  {
   "cell_type": "markdown",
   "metadata": {},
   "source": [
    "This code writes the cleaned DataFrame df to an Excel file named \"reddit_cleaned_for_label_NEW.xlsx\". The data is written without including the DataFrame index. The Excel file is created using the xlsxwriter engine for writing Excel files with pandas."
   ]
  },
  {
   "cell_type": "code",
   "execution_count": 144,
   "metadata": {},
   "outputs": [],
   "source": [
    "#with pd.ExcelWriter('reddit_cleaned_for_label_NEW.xlsx', engine='xlsxwriter') as writer:\n",
    "#    df.to_excel(writer, index=False)"
   ]
  }
 ],
 "metadata": {
  "kernelspec": {
   "display_name": "NLP",
   "language": "python",
   "name": "python3"
  },
  "language_info": {
   "codemirror_mode": {
    "name": "ipython",
    "version": 3
   },
   "file_extension": ".py",
   "mimetype": "text/x-python",
   "name": "python",
   "nbconvert_exporter": "python",
   "pygments_lexer": "ipython3",
   "version": "3.10.13"
  }
 },
 "nbformat": 4,
 "nbformat_minor": 2
}
