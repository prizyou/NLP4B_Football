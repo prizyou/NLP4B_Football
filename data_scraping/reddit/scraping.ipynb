{
 "cells": [
  {
   "cell_type": "markdown",
   "metadata": {},
   "source": [
    "This code imports the PRAW library, a Python wrapper for the Reddit API, allowing access to Reddit data. It also imports the MoreComments model from PRAW and the pandas library, enabling data manipulation and analysis using DataFrames."
   ]
  },
  {
   "cell_type": "code",
   "execution_count": 9,
   "metadata": {},
   "outputs": [],
   "source": [
    "import praw\n",
    "from praw.models import MoreComments\n",
    "import pandas as pd\n",
    "import os"
   ]
  },
  {
   "cell_type": "markdown",
   "metadata": {},
   "source": [
    "This code initializes a connection to the Reddit API using the provided client ID, client secret, and user agent. It enables access to Reddit's content and functionalities for data retrieval and analysis."
   ]
  },
  {
   "cell_type": "code",
   "execution_count": 10,
   "metadata": {},
   "outputs": [],
   "source": [
    "reddit = praw.Reddit(client_id='Z2oVhG8VMNytne7QB5RmGA', client_secret='1JGNREK7FHIsbay72Z-aaMfWYhGrMQ', user_agent='NLP')"
   ]
  },
  {
   "cell_type": "markdown",
   "metadata": {},
   "source": [
    "This code defines a list redditIds containing specific Reddit post IDs. It also initializes an empty list comment_data to store data collected from Reddit comments."
   ]
  },
  {
   "cell_type": "code",
   "execution_count": 11,
   "metadata": {},
   "outputs": [],
   "source": [
    "redditIds = [\"\"] \n",
    "comment_data = [] "
   ]
  },
  {
   "cell_type": "markdown",
   "metadata": {},
   "source": [
    "\n",
    "This code iterates through each Reddit post ID in the redditIds list. For each post ID, it retrieves the corresponding Reddit post and its comments. It collects comments with fewer than 80 words into the comment_data list, limiting the total number of comments to 300 here (comment_limit). Once the limit is reached, the loop terminates early to avoid collecting additional comments beyond the limit."
   ]
  },
  {
   "cell_type": "code",
   "execution_count": 12,
   "metadata": {},
   "outputs": [],
   "source": [
    "comment_limit = 300\n",
    "\n",
    "for redditId in redditIds:\n",
    "    post = reddit.submission(id=redditId)\n",
    "    comments = post.comments\n",
    "    comment_count = 0\n",
    "    \n",
    "    for comment in comments:\n",
    "        if isinstance(comment, MoreComments):\n",
    "            continue\n",
    "        if len(comment.body.split()) < 80:\n",
    "            comment_data.append({'Comment': comment.body})\n",
    "            comment_count += 1\n",
    "            \n",
    "            if comment_count >= comment_limit:\n",
    "                break"
   ]
  },
  {
   "cell_type": "markdown",
   "metadata": {},
   "source": [
    "This code creates a Pandas DataFrame (df) from the comment_data list, which contains Reddit comments. It adds two new columns to the DataFrame: \"label\", initialized with empty values, and \"source\", set to \"reddit\" for each entry, indicating the origin of the data."
   ]
  },
  {
   "cell_type": "code",
   "execution_count": 13,
   "metadata": {},
   "outputs": [],
   "source": [
    "df = pd.DataFrame(comment_data)\n",
    "df['label'] = ''\n",
    "df[\"source\"] = 'reddit'"
   ]
  },
  {
   "cell_type": "markdown",
   "metadata": {},
   "source": [
    "This block of code opens a file named \"Reddit_IDs.txt\" in write mode, then writes the current Reddit ID (redditId) followed by a newline character to the file. This effectively logs the Reddit ID for tracking purposes."
   ]
  },
  {
   "cell_type": "code",
   "execution_count": 14,
   "metadata": {},
   "outputs": [],
   "source": [
    "with open(\"Reddit_IDs.txt\", \"a\") as file:\n",
    "    file.write(redditId + \"\\n\")"
   ]
  },
  {
   "cell_type": "markdown",
   "metadata": {},
   "source": [
    "This code block checks if the file \"redditComments_NEW.csv\" exists.\n",
    "\n",
    "If the file does not exist, it writes the DataFrame df to the CSV file, including the header. \n",
    "\n",
    "If the file already exists, it appends the DataFrame to the existing CSV file without adding the header again. \n",
    "\n",
    "This ensures that the header is added only once, preventing duplication when the code is reloaded."
   ]
  },
  {
   "cell_type": "code",
   "execution_count": 15,
   "metadata": {},
   "outputs": [],
   "source": [
    "if not os.path.exists(\"redditComments_NEW.csv\"):\n",
    "    df.to_csv(\"redditComments_NEW.csv\", sep=';', index=False, mode='w', header=True)\n",
    "else:\n",
    "    df.to_csv(\"redditComments_NEW.csv\", sep=';', index=False, mode='a', header=False)\n"
   ]
  },
  {
   "cell_type": "markdown",
   "metadata": {},
   "source": [
    "This code displays the first 20 rows of the DataFrame"
   ]
  },
  {
   "cell_type": "code",
   "execution_count": 16,
   "metadata": {},
   "outputs": [
    {
     "data": {
      "text/html": [
       "<div>\n",
       "<style scoped>\n",
       "    .dataframe tbody tr th:only-of-type {\n",
       "        vertical-align: middle;\n",
       "    }\n",
       "\n",
       "    .dataframe tbody tr th {\n",
       "        vertical-align: top;\n",
       "    }\n",
       "\n",
       "    .dataframe thead th {\n",
       "        text-align: right;\n",
       "    }\n",
       "</style>\n",
       "<table border=\"1\" class=\"dataframe\">\n",
       "  <thead>\n",
       "    <tr style=\"text-align: right;\">\n",
       "      <th></th>\n",
       "      <th>Comment</th>\n",
       "      <th>label</th>\n",
       "      <th>source</th>\n",
       "    </tr>\n",
       "  </thead>\n",
       "  <tbody>\n",
       "    <tr>\n",
       "      <th>0</th>\n",
       "      <td>Haha - Van Bommel yellow in the 2nd minute. Ty...</td>\n",
       "      <td></td>\n",
       "      <td>reddit</td>\n",
       "    </tr>\n",
       "    <tr>\n",
       "      <th>1</th>\n",
       "      <td>[This picture sums it up](http://scchiang.smug...</td>\n",
       "      <td></td>\n",
       "      <td>reddit</td>\n",
       "    </tr>\n",
       "    <tr>\n",
       "      <th>2</th>\n",
       "      <td>The Battle of Nuremberg</td>\n",
       "      <td></td>\n",
       "      <td>reddit</td>\n",
       "    </tr>\n",
       "    <tr>\n",
       "      <th>3</th>\n",
       "      <td>Haha love this match. I don't know what's more...</td>\n",
       "      <td></td>\n",
       "      <td>reddit</td>\n",
       "    </tr>\n",
       "    <tr>\n",
       "      <th>4</th>\n",
       "      <td>I remember watching that game live. Afterwards...</td>\n",
       "      <td></td>\n",
       "      <td>reddit</td>\n",
       "    </tr>\n",
       "    <tr>\n",
       "      <th>5</th>\n",
       "      <td>Those Portugal kits are beautiful.</td>\n",
       "      <td></td>\n",
       "      <td>reddit</td>\n",
       "    </tr>\n",
       "    <tr>\n",
       "      <th>6</th>\n",
       "      <td>[deleted]</td>\n",
       "      <td></td>\n",
       "      <td>reddit</td>\n",
       "    </tr>\n",
       "    <tr>\n",
       "      <th>7</th>\n",
       "      <td>Terrible game, great entertainment. I couldn't...</td>\n",
       "      <td></td>\n",
       "      <td>reddit</td>\n",
       "    </tr>\n",
       "    <tr>\n",
       "      <th>8</th>\n",
       "      <td>[deleted]</td>\n",
       "      <td></td>\n",
       "      <td>reddit</td>\n",
       "    </tr>\n",
       "    <tr>\n",
       "      <th>9</th>\n",
       "      <td>Damn, if Van Bommel wasn't on my team I would ...</td>\n",
       "      <td></td>\n",
       "      <td>reddit</td>\n",
       "    </tr>\n",
       "    <tr>\n",
       "      <th>10</th>\n",
       "      <td>Overshadowed in this game was that the goal wa...</td>\n",
       "      <td></td>\n",
       "      <td>reddit</td>\n",
       "    </tr>\n",
       "    <tr>\n",
       "      <th>11</th>\n",
       "      <td>Amazing game, one of the highlights of the tou...</td>\n",
       "      <td></td>\n",
       "      <td>reddit</td>\n",
       "    </tr>\n",
       "    <tr>\n",
       "      <th>12</th>\n",
       "      <td>i kind of feel ashamed but .... Best. Game. Ever</td>\n",
       "      <td></td>\n",
       "      <td>reddit</td>\n",
       "    </tr>\n",
       "    <tr>\n",
       "      <th>13</th>\n",
       "      <td>Somewhat surprising, in the build up towards t...</td>\n",
       "      <td></td>\n",
       "      <td>reddit</td>\n",
       "    </tr>\n",
       "    <tr>\n",
       "      <th>14</th>\n",
       "      <td>Man, almost forgot how fucking awesome this ma...</td>\n",
       "      <td></td>\n",
       "      <td>reddit</td>\n",
       "    </tr>\n",
       "    <tr>\n",
       "      <th>15</th>\n",
       "      <td>What do you want? Theres centuries of history ...</td>\n",
       "      <td></td>\n",
       "      <td>reddit</td>\n",
       "    </tr>\n",
       "    <tr>\n",
       "      <th>16</th>\n",
       "      <td>Ref had a field day that game</td>\n",
       "      <td></td>\n",
       "      <td>reddit</td>\n",
       "    </tr>\n",
       "    <tr>\n",
       "      <th>17</th>\n",
       "      <td>One of the worst and most entertaining games I...</td>\n",
       "      <td></td>\n",
       "      <td>reddit</td>\n",
       "    </tr>\n",
       "    <tr>\n",
       "      <th>18</th>\n",
       "      <td>could have been worse, we could have lost **th...</td>\n",
       "      <td></td>\n",
       "      <td>reddit</td>\n",
       "    </tr>\n",
       "    <tr>\n",
       "      <th>19</th>\n",
       "      <td>What a game!</td>\n",
       "      <td></td>\n",
       "      <td>reddit</td>\n",
       "    </tr>\n",
       "  </tbody>\n",
       "</table>\n",
       "</div>"
      ],
      "text/plain": [
       "                                              Comment label  source\n",
       "0   Haha - Van Bommel yellow in the 2nd minute. Ty...        reddit\n",
       "1   [This picture sums it up](http://scchiang.smug...        reddit\n",
       "2                             The Battle of Nuremberg        reddit\n",
       "3   Haha love this match. I don't know what's more...        reddit\n",
       "4   I remember watching that game live. Afterwards...        reddit\n",
       "5                  Those Portugal kits are beautiful.        reddit\n",
       "6                                           [deleted]        reddit\n",
       "7   Terrible game, great entertainment. I couldn't...        reddit\n",
       "8                                           [deleted]        reddit\n",
       "9   Damn, if Van Bommel wasn't on my team I would ...        reddit\n",
       "10  Overshadowed in this game was that the goal wa...        reddit\n",
       "11  Amazing game, one of the highlights of the tou...        reddit\n",
       "12  i kind of feel ashamed but .... Best. Game. Ever         reddit\n",
       "13  Somewhat surprising, in the build up towards t...        reddit\n",
       "14  Man, almost forgot how fucking awesome this ma...        reddit\n",
       "15  What do you want? Theres centuries of history ...        reddit\n",
       "16                      Ref had a field day that game        reddit\n",
       "17  One of the worst and most entertaining games I...        reddit\n",
       "18  could have been worse, we could have lost **th...        reddit\n",
       "19                                       What a game!        reddit"
      ]
     },
     "execution_count": 16,
     "metadata": {},
     "output_type": "execute_result"
    }
   ],
   "source": [
    "df.head(20)"
   ]
  }
 ],
 "metadata": {
  "kernelspec": {
   "display_name": "NLPProject",
   "language": "python",
   "name": "python3"
  },
  "language_info": {
   "codemirror_mode": {
    "name": "ipython",
    "version": 3
   },
   "file_extension": ".py",
   "mimetype": "text/x-python",
   "name": "python",
   "nbconvert_exporter": "python",
   "pygments_lexer": "ipython3",
   "version": "3.10.13"
  }
 },
 "nbformat": 4,
 "nbformat_minor": 2
}
