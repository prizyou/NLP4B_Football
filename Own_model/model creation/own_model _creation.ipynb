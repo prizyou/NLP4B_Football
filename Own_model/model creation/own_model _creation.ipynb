{
 "cells": [
  {
   "cell_type": "markdown",
   "metadata": {},
   "source": [
    "## Import Libraries and Load Data"
   ]
  },
  {
   "cell_type": "code",
   "execution_count": 6,
   "metadata": {},
   "outputs": [],
   "source": [
    "#general packages for data manipulation\n",
    "import pandas as pd\n",
    "#visualizations\n",
    "import matplotlib.pyplot as plt\n",
    "import seaborn as sns\n",
    "%matplotlib inline\n",
    "#consistent sized plot \n",
    "from pylab import rcParams\n",
    "rcParams['figure.figsize']=12,5\n",
    "rcParams['axes.labelsize']=12\n",
    "rcParams['xtick.labelsize']=12\n",
    "rcParams['ytick.labelsize']=12\n",
    "#handle the warnings in the code\n",
    "import warnings\n",
    "warnings.filterwarnings(action='ignore',category=DeprecationWarning)\n",
    "warnings.filterwarnings(action='ignore',category=FutureWarning)\n",
    "#text preprocessing libraries\n",
    "from nltk.corpus import stopwords\n",
    "from nltk.tokenize import WordPunctTokenizer\n",
    "#import texthero\n",
    "#import texthero as hero\n",
    "#regular expressions\n",
    "import re\n",
    "#display pandas dataframe columns \n",
    "pd.options.display.max_columns = None"
   ]
  },
  {
   "cell_type": "markdown",
   "metadata": {},
   "source": [
    "load csv file as pandas dataframe"
   ]
  },
  {
   "cell_type": "code",
   "execution_count": 7,
   "metadata": {},
   "outputs": [
    {
     "name": "stdout",
     "output_type": "stream",
     "text": [
      "                                             comment  source  label\n",
      "0  As a woman you shouldn't complain about cleani...  kaggle      0\n",
      "1  boy dats cold...tyga dwn bad for cuffin dat ho...  kaggle      1\n",
      "2  Dawg!!!! You ever fuck a bitch and she start t...  kaggle      1\n",
      "3  The shit you hear about me might be true or it...  kaggle      1\n",
      "4  The shit just blows me..claim you so faithful ...  kaggle      1\n",
      "(3862, 3)\n"
     ]
    }
   ],
   "source": [
    "data = pd.read_csv(r'C:\\VSCode\\NLP4B_Football\\Own_model\\model creation\\complete_dataset.csv')\n",
    "\n",
    "#drop the first column because it is not necessary\n",
    "print(data.head())\n",
    "print(data.shape)\n",
    "\n",
    "#copy to a new dataframe\n",
    "df = data.copy()\n",
    "\n",
    "# convert comment column to string\n",
    "df['comment'] = df['comment'].astype(str)"
   ]
  },
  {
   "cell_type": "markdown",
   "metadata": {},
   "source": [
    "# Text Cleaning"
   ]
  },
  {
   "cell_type": "markdown",
   "metadata": {},
   "source": [
    "Convert emojis to text"
   ]
  },
  {
   "cell_type": "code",
   "execution_count": 8,
   "metadata": {},
   "outputs": [
    {
     "name": "stdout",
     "output_type": "stream",
     "text": [
      "england is t=not aawys the best but atleast they tried:smiling_face_with_tear::smiling_face_with_tear::smiling_face_with_tear::smiling_face_with_tear::loudly_crying_face::loudly_crying_face::loudly_crying_face:\n"
     ]
    }
   ],
   "source": [
    "import emoji\n",
    "\n",
    "def convert_emojis_to_word(comment):\n",
    "    '''Function to convert emojis to words'''\n",
    "    # Convert emojis to text\n",
    "    comment_with_emojis = emoji.demojize(comment)\n",
    "    return comment_with_emojis\n",
    "\n",
    "# Apply the function to the comment column\n",
    "df['comment'] = df['comment'].apply(convert_emojis_to_word)\n",
    "\n",
    "# print row 663 to see the result\n",
    "print(df['comment'].iloc[663])"
   ]
  },
  {
   "cell_type": "markdown",
   "metadata": {},
   "source": [
    "Find things to remove and how often they appear"
   ]
  },
  {
   "cell_type": "code",
   "execution_count": 9,
   "metadata": {},
   "outputs": [
    {
     "name": "stdout",
     "output_type": "stream",
     "text": [
      "Total items found: 5 ['@soccerboy_04', '@bluprint_4', '@KingCuh', '@WestYourMajesty', '@']\n",
      "Total items found: 54 ['#Shots', '#2MW', '#HappyHumpDay', '#Eaglesnation', '#EarlyChristmas', '#CowboysNation', '#TehGodClan', '#Yankees', '#FreeMoneyMelle', '#oomf', '#scally', '#fixed', '#KingOfTheHill', '#UCFPINKPARTY', '#bum', '#hoesaintloyal', '#real', '#Pisces', '#GerrysHalloweenParty', '#MTVHottest', '#Yankees', '#ProtectTheAnimals', '#Damn', '#', '#blondeproblems', '#scally', '#History', '#frenchscally', '#YoureNotMyType', '#shitmybosssays', '#shitallysays', '#FreshRhymes', '#128514', '#JT2020Tour', '#50centmovie', '#ThankYouPaulForConfirmingLarry', '#NottingHill', '#8230', '#233', '#8230', '#RIPTALLT', '#65292', '#Tupac', '#afterearth', '#SNL', '#hoes', '#ShitFahdSays', '#redskins', '#1', '#r', '#BAH', '#WHAT', '#5', '#Well']\n",
      "Total items found: 2 ['https://x.com/dfb', 'https://youtu.be/8dIQ56YACvE']\n",
      "Total items found: 2875 [\"'\", '.', '!', '.', '.', ':', '.', '?', '.', \"'\", \"'\", '.', '#', '#', ',', '#', \"'\", '\"', '.', \"'\", '\"', '\"', '\"', \"'\", '?', '-', '-', '?', '.', '\"', '?', '#', ',', '!', \"'\", '\"', '/', '.', '!', '.', ',', '\"', '.', '\"', '\"', '\"', '!', \"'\", '#', '.', '\"', \"'\", '!', '\"', ',', '.', ',', '.', '\"', \"'\", '?', ':', '\"', \"'\", '.', \"'\", ',', \"'\", \"'\", '*', '.', ',', \"'\", '\"', '\"', '!', \"'\", '|', \"'\", '?', '\"', '!', '!', '.', \"'\", \"'\", \"'\", \"'\", '\"', ',', '\"', \"'\", '#', '.', '#', '.', '.', '\"', '.', \"'\", '\"', \"'\", '\"', \"'\", '.', \"'\", \"'\", '#', \"'\", ',', \"'\", '\"', '.', ',', '.', '?', '\"', '\"', '-', '\"', '\"', '\"', \"'\", '.', '/', '.', '\"', '.', '?', '?', \"'\", \"'\", '\"', '\"', '\"', \"'\", '\"', '.', \"'\", '!', \"'\", '.', \"'\", ':', '%', \"'\", '/', '!', \"'\", '\"', '#', '\"', '.', '\"', '!', '.', \"'\", \"'\", '@', '.', '\"', '-', '.', '?', \"'\", '\"', '#', '@', '\"', \"'\", '\"', '\"', \"'\", '\"', ',', '#', '\"', '-', '\"', \"'\", '\"', '\"', ',', '\"', \"'\", '.', \"'\", '\"', '-', \"'\", '\"', '\"', '\"', '.', '.', \"'\", \"'\", '\"', \"'\", '.', '\"', '\"', '.', '.', '\"', '\"', ',', '.', '?', \"'\", ',', \"'\", ',', '.', \"'\", '.', '?', '\"', '\"', '.', ',', ',', ',', '.', '@', '.', '#', '-', '.', '\"', '\"', ',', '\"', '.', '.', '\"', '#', '!', ':', \"'\", '!', \"'\", '\"', \"'\", '!', '?', \"'\", ',', \"'\", '.', \"'\", \"'\", \"'\", '\"', '\"', '\"', '\"', '?', '!', '=', '!', '!', '!', '!', \"'\", '!', \"'\", '\"', '.', \"'\", '.', '!', '\"', '.', '#', \"'\", '?', \"'\", \"'\", \"'\", '\"', ',', \"'\", ',', '.', '\"', '\"', '\"', '\"', '\"', '\"', '\"', '\"', '\"', '\"', '\"', '\"', '\"', '\"', '\"', '\"', '\"', '\"', '\"', '\"', '\"', '\"', '\"', '\"', '\"', '\"', '\"', '\"', '\"', '\"', '\"', '\"', '\"', '\"', '\"', '\"', '\"', '\"', '\"', '\"', '\"', '\"', '\"', '\"', '\"', '\"', '\"', '\"', '\"', '\"', '\"', '\"', '\"', '\"', '\"', '\"', '\"', '\"', '\"', '\"', '\"', '\"', '\"', '\"', '\"', '\"', '\"', '\"', '\"', '\"', '\"', '\"', '\"', '\"', '\"', '\"', '\"', '\"', '\"', '\"', '\"', '\"', '\"', '\"', '\"', '\"', '\"', '\"', '\"', '\"', '\"', '\"', '\"', '\"', '\"', '\"', '\"', '\"', '\"', '\"', '\"', '\"', '\"', '\"', '\"', '\"', '\"', '\"', '\"', '\"', '\"', '\"', '\"', '\"', '\"', '\"', '\"', '\"', '\"', '\"', '\"', '\"', '\"', '\"', '\"', '\"', '\"', '\"', '\"', '\"', '\"', '\"', '\"', '\"', '\"', '\"', '\"', '\"', '\"', '\"', '\"', '\"', '\"', '\"', '\"', '\"', '\"', '\"', '\"', '\"', '\"', '\"', '\"', '\"', '\"', '\"', '\"', '\"', '\"', '\"', '\"', '\"', '\"', '\"', '\"', '\"', '\"', '\"', '\"', '\"', '\"', '\"', '\"', '\"', '\"', '\"', '\"', '\"', '\"', '\"', '\"', '\"', '\"', '\"', '\"', '\"', '\"', '\"', '\"', '\"', '\"', '\"', '\"', '\"', '\"', '\"', '\"', '\"', '\"', '\"', '\"', '\"', '\"', '\"', '\"', '\"', '\"', '\"', '\"', ':', ':', '.', \"'\", '-', '.', '.', ':', '…', ':', '.', '’', \"'\", '.', \"'\", '.', \"'\", '.', ':', '!', '.', \"'\", '.', '…', ':', ':', '.', '\"', '’', \"'\", '’', ':', '.', ':', \"'\", ':', '’', '’', ':', ':', '.', '.', '’', ':', ':', '?', '/', '.', '-', \"'\", \"'\", '.', '.', ':', '.', '!', \"'\", '.', ':', '’', \"'\", '.', '?', '.', ':', '.', \"'\", \"'\", ':', '.', \"'\", ':', '?', '(', \"'\", '=', '.', '.', '’', ':', '.', '?', '.', '.', '.', ':', ':', ':', '’', '.', '-', ':', '.', '’', ':', '.', \"'\", \"'\", \"'\", '.', '!', '’', '.', ':', '“', '.', '.', ':', '<', '.', ':', ':', '.', ':', '<', '?', '.', '!', '!', '.', '.', '.', '’', '.', '?', '!', ':', '!', \"'\", \"'\", '!', '!', '!', ':', '!', '.', \"'\", '.', '.', '?', ':', \"'\", '!', '!', '!', '.', '’', \"'\", '.', '.', '.', ':', '.', '!', ':', ':', \"'\", '.', '-', '?', '.', '’', '!', '.', \"'\", ':', '’', '?', ':', ':', '’', \"'\", \"'\", \"'\", '-', '.', '?', '.', '’', '’', '’', '’', \"'\", \"'\", \"'\", '.', '.', '.', '.', '?', '.', ':', '.', \"'\", '-', '.', ':', ':', '.', '.', '?', '?', '?', '!', '<', \"'\", '.', ':', '’', ':', \"'\", '-', '!', '.', \"'\", '.', '!', '.', '“', '’', '?', '.', '’', ':', ':', '!', '.', \"'\", ':', '.', '.', ':', '&', '.', '.', ':', ':', '/', ':', '…', ':', '.', '*', '<', \"'\", \"'\", ':', ':', '…', '.', '’', ':', '.', '!', '.', '.', '.', '’', '.', '.', '.', \"'\", '-', '?', '.', ':', \"'\", '.', '.', '”', '.', '?', '?', '!', '’', '\"', \"'\", ':', ':', \"'\", ':', ':', ':', '’', '.', '.', '\"', ':', ':', \"'\", '!', '’', '!', ':', '.', ':', ':', ':', '.', ':', '.', ':', ':', ':', ':', ':', ':', '.', ':', '.', '&', ':', '=', ':', \"'\", ':', ':', '!', '.', '.', ':', '.', \"'\", ':', '.', '.', '!', \"'\", \"'\", ':', ':', ':', ':', ':', ':', '?', '.', ':', ':', ':', ':', \"'\", '-', ':', '.', ':', ':', \"'\", '?', ':', '?', '.', ':', '!', '.', '?', '.', ':', \"'\", '.', '\"', '!', ':', '.', \"'\", '.', '.', '’', \"'\", \"'\", '.', '.', '.', \"'\", \"'\", '’', '.', '!', '.', ':', '-', '?', \"'\", '.', '\"', '.', '.', '.', '’', '.', '-', \"'\", '.', '’', '“', '.', '.', '.', '’', '.', '!', '&', '.', '.', '‘', \"'\", '.', '!', '.', '#', '.', '?', '’', ':', '.', '.', '-', ':', \"'\", '’', \"'\", '…', ':', '<', \"'\", ':', ':', '?', '.', '.', '.', '.', ':', '.', \"'\", \"'\", \"'\", '’', ':', \"'\", '.', ':', '.', '’', '.', ':', '.', '.', '.', '.', \"'\", ':', \"'\", '/', '‘', ':', '.', '.', \"'\", \"'\", ':', '.', ':', '.', ':', '.', ':', '.', '!', ':', ':', ':', '’', '!', '?', '.', '.', '’', '-', '!', '?', '’', '‘', '’', ':', '-', \"'\", '?', ':', \"'\", \"'\", '.', \"'\", ':', '-', '.', ':', \"'\", '.', \"'\", '.', ':', '-', ':', '.', '’', '.', '?', '.', ':', \"'\", \"'\", \"'\", '’', '’', ':', '!', '&', \"'\", '-', ':', '.', \"'\", '.', ':', '(', ':', \"'\", \"'\", '?', '.', \"'\", '.', '.', '\"', '.', '!', '.', \"'\", ':', '?', '?', ':', '-', ':', \"'\", \"'\", '-', '-', '?', ':', '£', '’', '!', ':', '.', \"'\", '.', ':', '.', '.', '.', '.', \"'\", '’', \"'\", '’', '/', '?', '.', '.', '.', '.', '-', ':', '.', '.', '’', \"'\", ':', '.', '’', '.', '…', '’', '.', '.', '.', ':', '’', '?', '.', '.', ':', \"'\", ':', '.', '-', '.', \"'\", '?', '.', '.', '?', '.', '!', '’', ':', '.', '.', '-', \"'\", ':', '.', '.', ':', '?', \"'\", '?', '!', '?', ':', \"'\", ':', '.', '.', '’', '?', '?', ':', \"'\", '.', ':', '!', '!', '.', '’', ':', '*', '?', '.', ':', '.', ':', ':', '?', '.', '’', '.', '?', '.', '.', \"'\", '&', '.', '.', '?', '.', '.', '…', '’', ':', '.', '’', '.', ':', '…', '.', '.', \"'\", '?', '.', '.', ':', ':', ':', '.', '-', '-', '-', \"'\", '\"', '’', '.', ':', '’', '.', \"'\", '.', ':', ':', ':', ':', '.', '!', '’', '.', ':', \"'\", '-', '-', '.', '.', '’', '.', '.', '?', '.', ':', ':', ':', '!', '’', '!', '.', ':', ':', \"'\", \"'\", '.', '.', ':', ':', ':', '.', '.', ':', '’', '.', ':', '.', '.', ':', \"'\", '£', \"'\", '-', '!', \"'\", ':', '!', '!', '’', '.', ':', '\"', ':', '‘', '.', '?', ':', ':', ':', ':', '.', ':', '.', ';', '’', '.', '’', ':', '.', '.', '!', '’', '.', '.', ':', '’', '/', ':', '.', '’', '.', ':', ':', '.', '?', '‘', \"'\", '!', '’', '.', \"'\", '.', '.', '!', '-', '.', ':', ':', '’', '!', '-', '.', '’', \"'\", '.', '‘', '.', '?', \"'\", '!', '-', '-', '.', \"'\", ':', '.', \"'\", ':', ':', '?', ':', ':', '-', ':', '’', '?', ':', ':', '-', \"'\", '-', '.', \"'\", '.', '.', '.', '.', '?', '.', ':', ':', '?', '.', '.', '.', '-', ':', '.', '.', '.', '.', '?', ':', \"'\", ':', '’', '!', ':', '.', '.', '…', ':', ':', '-', ':', '\"', \"'\", '/', '.', '.', \"'\", '’', '!', '.', \"'\", \"'\", '.', '.', '.', '.', '’', ':', \"'\", '.', '.', \"'\", '.', '!', '.', \"'\", \"'\", ':', '.', '?', '.', '.', '.', '!', '-', '?', '.', '?', '.', '’', \"'\", '.', '.', '.', '!', '(', ':', '.', ':', ':', '!', '.', ':', ':', ':', '-', '!', \"'\", '!', '!', ':', \"'\", \"'\", \"'\", '.', '<', '.', ':', '.', ':', '(', ':', ':', '!', ':', '\"', '…', \"'\", ':', ':', '.', '.', '.', ':', ':', '<', '.', '.', '.', '.', ':', '.', ':', \"'\", '?', ':', '.', ':', ':', ':', ':', \"'\", '.', ':', '.', ':', '(', \"'\", '’', ':', '/', '’', ':', '.', ':', \"'\", \"'\", '!', ':', \"'\", '.', \"'\", '.', '!', ':', '.', ':', '.', \"'\", '’', '.', ':', \"'\", '<', '.', '’', ':', '.', '’', ',', '’', ',', \"'\", '’', ',', '-', ',', ',', '’', \"'\", '’', ',', '’', ',', ',', '.', '.', '.', '.', '.', '.', '.', \"'\", ':', ',', '…', '?', ',', '/', '?', '.', '.', ',', '-', '?', \"'\", '.', ',', '.', '!', ',', '’', \"'\", ',', ':', '-', '.', '…', '.', '.', ':', ',', '.', ',', ',', '.', '.', '?', '’', '?', '.', ',', '.', '?', ',', ':', ',', \"'\", ',', '’', '.', '(', '.', '!', '.', ',', '?', ',', '?', \"'\", ',', '.', '!', ',', '.', '.', \"'\", \"'\", '\\\\', '?', ',', ',', '.', \"'\", '?', '’', ',', '?', \"'\", ',', '-', '?', '’', '’', '’', ',', '-', '.', '+', '.', '.', ',', ',', ',', ',', '.', '.', '.', ',', \"'\", \"'\", '<', ':', \"'\", \"'\", ',', '\"', '-', '.', ',', '.', ',', '.', '*', '-', '’', ',', \"'\", '?', '.', '?', '.', \"'\", \"'\", '.', ',', '.', \"'\", ':', '.', ',', '-', '.', \"'\", ',', '.', '.', \"'\", ',', '.', '.', \"'\", '.', '/', \"'\", \"'\", '?', '.', ',', '’', '’', '’', ',', ',', ',', ',', '?', ',', '.', '-', '?', '’', '’', \"'\", ',', '/', \"'\", \"'\", ',', ',', ',', \"'\", '.', '.', \"'\", '-', '\"', ':', '.', ',', '-', '.', '-', \"'\", '-', \"'\", '’', '.', \"'\", '&', '’', ',', \"'\", '’', '’', '(', '.', '?', '’', '.', \"'\", '?', '’', '?', '!', '?', '.', \"'\", \"'\", ',', '-', \"'\", \"'\", '.', '.', \"'\", '?', '.', ',', '.', \"'\", \"'\", '?', '.', \"'\", '.', \"'\", '’', '-', ':', ',', \"'\", ',', '.', \"'\", '’', '?', '’', '.', ',', '!', '.', \"'\", ',', ':', '?', \"'\", '?', '?', \"'\", \"'\", '.', '.', \"'\", '’', '?', \"'\", '?', '?', ',', \"'\", '?', '?', '.', '-', '.', ',', \"'\", \"'\", '.', '.', \"'\", '.', '.', ',', '’', '.', '’', '.', '-', '.', '(', '.', \"'\", '.', '.', ',', \"'\", '.', '.', ',', '.', '.', '.', '.', \"'\", '.', ',', '.', ',', '-', '/', '.', '.', '.', '’', '’', '.', '“', ',', '(', '.', \"'\", '.', '.', '.', ',', ',', \"'\", ',', '.', '-', '\"', '?', '.', '.', '´', '-', '-', \"'\", \"'\", '!', '\"', '.', '.', '!', \"'\", '.', ':', \"'\", \"'\", '.', '“', '.', '.', '!', '.', \"'\", '?', \"'\", \"'\", '.', '.', '.', '!', '.', '!', \"'\", '.', '?', '!', \"'\", ':', '.', '?', '.', '?', '?', '.', '.', '.', '!', \"'\", \"'\", '.', \"'\", '.', '.', '?', '.', '?', '!', '.', '!', '.', '.', '\"', \"'\", '.', '-', \"'\", '.', \"'\", \"'\", \"'\", '?', '.', '.', \"'\", \"'\", '!', '!', '.', \"'\", \"'\", \"'\", '.', '?', '.', '!', '.', '?', '.', \"'\", ':', '.', \"'\", '?', '/', '.', \"'\", ':', '.', \"'\", '!', \"'\", '!', '!', '-', \"'\", '?', '.', '?', '.', '.', '.', '.', '!', ':', '.', '!', '?', \"'\", \"'\", '.', '?', \"'\", \"'\", '!', \"'\", \"'\", '?', \"'\", '?', \"'\", '?', '?', '.', '-', '!', \"'\", '!', '?', '…', '?', '?', '?', '.', '!', '!', '?', '.', \"'\", '?', ':', '.', '.', \"'\", '!', \"'\", \"'\", '!', \"'\", \"'\", '?', '.', '?', '.', ':', \"'\", '-', \"'\", \"'\", '.', '?', '.', \"'\", \"'\", \"'\", '.', '.', '?', '?', \"'\", '.', '.', \"'\", '.', \"'\", '!', '.', '?', ':', '\"', '.', '.', '%', '.', '?', \"'\", '.', '.', '!', '-', '.', \"'\", '.', '.', '.', '.', \"'\", \"'\", '.', '!', '^', '.', '.', \"'\", \"'\", '.', '.', '.', '?', \"'\", '.', \"'\", \"'\", '.', '.', '.', '-', '.', \"'\", '.', '.', '.', ':', '*', '.', '.', '.', \"'\", \"'\", '.', \"'\", \"'\", '.', '.', '.', '(', '!', \"'\", '.', '.', '?', '.', '.', ':', \"'\", '.', '?', ':', \"'\", '!', '.', '“', '.', '?', ':', '.', '.', '.', '.', ':', '?', '.', '.', '.', '-', \"'\", ':', '.', '.', '.', \"'\", \"'\", \"'\", '(', '!', '.', '.', \"'\", '.', \"'\", '%', '.', '.', '.', '.', '.', '.', \"'\", \"'\", '.', '.', '?', \"'\", '-', '.', \"'\", \"'\", \"'\", \"'\", '?', '.', '\"', \"'\", '/', '.', \"'\", '?', '?', \"'\", '.', '?', '.', '.', \"'\", '.', '.', ':', '.', '?', \"'\", '.', \"'\", \"'\", \"'\", \"'\", '.', '.', '!', \"'\", \"'\", '-', '!', '!', \"'\", '.', '.', \"'\", \"'\", '…', '.', '.', \"'\", \"'\", '.', '-', ':', '?', '-', \"'\", '.', ':', \"'\", \"'\", '.', \"'\", \"'\", ':', '-', '.', ':', '-', '.', '!', '#', '.', ':', '.', \"'\", '.', '.', ':', \"'\", '.', \"'\", \"'\", '.', \"'\", '?', \"'\", '?', '?', '-', ':', '-', \"'\", \"'\", ':', '“', \"'\", '(', '+', '.', '?', '.', '#', '!', '.', ':', '.', '.', \"'\", '-', '*', '?', \"'\", '/', '.', '.', '\"', \"'\", '.', \"'\", '.', \"'\", '+', '\"', '.', '.', '.', \"'\", '.', '+', '.', ':', ':', '-', '.', \"'\", '.', '*', \"'\", \"'\", '?', \"'\", '.', \"'\", '!', \"'\", '.', '.', '.', '.', '%', '?', '>', \"'\", '.', '.', '.', '.', ':', \"'\", '\"', \"'\", '+', '.', '!', \"'\", \"'\", '.', '.', \"'\", '.', '?', '.', \"'\", '*', \"'\", '.', '?', '~', '.', '?', '`', ':', \"'\", '!', \"'\", \"'\", '“', \"'\", '.', \"'\", '!', ':', '#', \"'\", '\"', '.', \"'\", \"'\", '.', \"'\", '.', \"'\", '?', '.', \"'\", '?', '!', \"'\", '=', '.', '.', '!', '.', '.', '?', '.', '>', '.', '#', '.', '.', '[', '/', '.', \"'\", '.', '.', \"'\", '/', '?', '.', \"'\", '.', \"'\", '.', '?', '?', '-', '?', '.', ';', \"'\", '.', ':', '~', '‘', \"'\", '.', '.', '.', '.', \"'\", '?', '!', '-', '?', \"'\", '/', \"'\", '—', ':', \"'\", \"'\", \"'\", ':', '.', '%', '&', \"'\", '.', ':', \"'\", '?', \"'\", \"'\", \"'\", '\"', '-', \"'\", '/', \"'\", '.', '(', '*', '.', '!', \"'\", \"'\", '.', '!', '.', \"'\", '…', '[', '.', '.', \"'\", '.', '.', \"'\", '*', \"'\", \"'\", '.', '.', \"'\", \"'\", '-', \"'\", '!', '.', '-', '.', '.', '.', '!', '.', '.', \"'\", \"'\", \"'\", '.', \"'\", ':', '.', \"'\", '.', \"'\", '.', \"'\", '*', '.', \"'\", '?', '.', '.', \"'\", '.', '.', \"'\", \"'\", '.', '.', '*', '?', '.', '?', '.', ':', '.', '?', ':', '-', ':', '.', '.', '.', '.', ':', '“', \"'\", ':', '-', \"'\", '.', '.', '.', \"'\", '.', \"'\", '-', '.', '\"', '.', '.', '(', '.', \"'\", '.', '.', '.', '.', '.', '?', '-', \"'\", '.', '.', '.', '.', '-', '?', \"'\", '-', \"'\", \"'\", \"'\", \"'\", \"'\", \"'\", ':', '-', '.', '.', '.', ':', '.', \"'\", \"'\", \"'\", '-', '.', '.', '.', '(', '.', '.', '.', '.', '!', '.', \"'\", '?', \"'\", '.', '.', \"'\", '.', \"'\", '…', '.', '-', '‘', '.', '.', '-', '.', \"'\", '?', ':', ':', \"'\", ':', \"'\", '.', '.', ':', '.', '.', \"'\", '.', '.', '.', '.', '.', '.', '.', \"'\", \"'\", '.', \"'\", '.', '.', '/', '.', '[', '.', '[', '?', '.', \"'\", '.', '.', '-', '…', '.', '.', '.', '.', '?', \"'\", '.', '.', '.', '.', '…', '.', '?', '!', '-', \"'\", '=', '.', \"'\", '?', '?', '!', '.', '.', '-', '.', \"'\", '.', '.', '.', \"'\", '.', '.', '.', '.', \"'\", \"'\", '.', '\"', '.', '!', '?', '*', '!', \"'\", '.', '?', '-', '.', '.', '.', '.', '.', \"'\", \"'\", \"'\", '.', '.', \"'\", \"'\", \"'\", \"'\", '.', '#', '.', '.', '.', '.', '.', '.', \"'\", '>', '>', ':', '.', '?', ':', '.', \"'\", '/', '/', '!', '>', '\"', '.', '.', '.', '/', '!', \"'\", '?', '!', '!', '—', \"'\", '.', '.', ':', \"'\", \"'\", '!', \"'\", '.', '!', '?', \"'\", '!', '!', '.', ':', \"'\", \"'\", '.', '.', ':', \"'\", ':', '.', '.', \"'\", '?', '!', \"'\", ':', '!', \"'\", '?', '.', '?', \"'\", '?', '“', '!', '.', '\"', '(', '•', \"'\", '\"', \"'\", '.', '.', \"'\", '.', '.', '%', \"'\", '.', \"'\", \"'\", '.', \"'\", \"'\", ':', '.', '.', \"'\", \"'\", '.', \"'\", '?', \"'\", \"'\", '.', '.', \"'\", \"'\", \"'\", '?', '.', \"'\", \"'\", '.', '.', '.', \"'\", \"'\", '.', \"'\", \"'\", '.', '-', \"'\", '-', \"'\", '.', '(', '\"', \"'\", '.', '(', \"'\", '.', '.', '.', '\"', '.', '%', '!', '“', '.', '.', \"'\", \"'\", \"'\", '.', \"'\", '.', '.', '?', '.', '.', '.', '.', '.', \"'\", '?', '-', '.', '.', '\"', '.', '.', \"'\", \"'\", '.', \"'\", '.', '.', '.', \"'\", \"'\", '.', \"'\", '.', '-', '.', '.', '.', '.', \"'\", '.', '.', '-', '.', '?', '.', '*', '!', '.', '.', '.', '.', '.', '.', '.', \"'\", '-', '.', '-', '.']\n",
      "Total items found: 13 ['88', '88', '18', '18', '18', '18', '18', '88', '18', '18', '18', '18', '18']\n",
      "['88', '88', '18', '18', '18', '18', '18', '88', '18', '18', '18', '18', '18']\n"
     ]
    }
   ],
   "source": [
    "# Function to check for pattern\n",
    "def check_for_pattern(regex, dataframe, column_name):\n",
    "    '''Function to check for how often a pattern appears in a dataframe column and returns a list of all the items found'''\n",
    "    pattern = re.compile(regex)\n",
    "    result = []\n",
    "    for i in range(len(dataframe[column_name])):\n",
    "        phrase = (re.findall(pattern, str(dataframe[column_name][i])))  # Convert column values to string\n",
    "        if phrase != []:\n",
    "            result.append(phrase[0])\n",
    "    print(\"Total items found:\", len(result), result)\n",
    "    return result\n",
    "\n",
    "# Check for user handles\n",
    "user_handles = check_for_pattern(r'@[\\w]*', df, 'comment')\n",
    "\n",
    "# Check for hashtags\n",
    "hashtags = check_for_pattern(r'#[\\w]*', df, 'comment')\n",
    "\n",
    "# Check for URLs\n",
    "urls = check_for_pattern(r'https?://[A-Za-z0-9./]+', df, 'comment')\n",
    "\n",
    "# Check for punctuations\n",
    "punctuations = check_for_pattern(r'[^\\w\\s]', df, 'comment')\n",
    "\n",
    "# Check for numbers 18, 88, 1312\n",
    "numbers = check_for_pattern(r'18|88|1312', df, 'comment')\n",
    "#print rows with numbers 18, 88, 1312, show only the comment column and show the whole comment\n",
    "print(numbers)\n",
    "# --> no need to worry\n",
    "\n"
   ]
  },
  {
   "cell_type": "markdown",
   "metadata": {},
   "source": [
    "Remove these patterns"
   ]
  },
  {
   "cell_type": "code",
   "execution_count": 10,
   "metadata": {},
   "outputs": [
    {
     "name": "stdout",
     "output_type": "stream",
     "text": [
      "england is tnot aawys the best but atleast they triedsmiling face with tearsmiling face with tearsmiling face with tearsmiling face with tearloudly crying faceloudly crying faceloudly crying face\n"
     ]
    }
   ],
   "source": [
    "\n",
    "# Remove user handles\n",
    "df.replace(r'@[\\w]*', '', regex=True, inplace=True)\n",
    "\n",
    "# Remove hashtags\n",
    "df.replace(r'#[\\w]*', '', regex=True, inplace=True)\n",
    "\n",
    "# Remove URLs\n",
    "df.replace(r'https?://[A-Za-z0-9./]+', '', regex=True, inplace=True)\n",
    "\n",
    "# Remove punctuations\n",
    "df.replace(r'[^\\w\\s]', '', regex=True, inplace=True)\n",
    "\n",
    "# Remove digits\n",
    "df.replace(r'\\d+', '', regex=True, inplace=True)\n",
    "\n",
    "# Replace underscores with spaces\n",
    "df.replace(r'_', ' ', regex=True, inplace=True)\n",
    "\n",
    "# show random 5 rows\n",
    "df.sample(5, random_state=1)\n",
    "\n",
    "# print row 663 to see the result\n",
    "print(df['comment'].iloc[663])"
   ]
  },
  {
   "cell_type": "markdown",
   "metadata": {},
   "source": [
    "Decapitalize"
   ]
  },
  {
   "cell_type": "code",
   "execution_count": 11,
   "metadata": {},
   "outputs": [
    {
     "name": "stdout",
     "output_type": "stream",
     "text": [
      "england is tnot aawys the best but atleast they triedsmiling face with tearsmiling face with tearsmiling face with tearsmiling face with tearloudly crying faceloudly crying faceloudly crying face\n"
     ]
    }
   ],
   "source": [
    "df[\"comment\"] = df[\"comment\"].str.lower()\n",
    "\n",
    "# print 662 row\n",
    "print(df[\"comment\"].iloc[663])"
   ]
  },
  {
   "cell_type": "markdown",
   "metadata": {},
   "source": [
    "Tokenize"
   ]
  },
  {
   "cell_type": "code",
   "execution_count": 12,
   "metadata": {},
   "outputs": [
    {
     "data": {
      "text/html": [
       "<div>\n",
       "<style scoped>\n",
       "    .dataframe tbody tr th:only-of-type {\n",
       "        vertical-align: middle;\n",
       "    }\n",
       "\n",
       "    .dataframe tbody tr th {\n",
       "        vertical-align: top;\n",
       "    }\n",
       "\n",
       "    .dataframe thead th {\n",
       "        text-align: right;\n",
       "    }\n",
       "</style>\n",
       "<table border=\"1\" class=\"dataframe\">\n",
       "  <thead>\n",
       "    <tr style=\"text-align: right;\">\n",
       "      <th></th>\n",
       "      <th>comment</th>\n",
       "      <th>source</th>\n",
       "      <th>label</th>\n",
       "    </tr>\n",
       "  </thead>\n",
       "  <tbody>\n",
       "    <tr>\n",
       "      <th>2172</th>\n",
       "      <td>[good, luck, to, both, although, im, personall...</td>\n",
       "      <td>reddit</td>\n",
       "      <td>0</td>\n",
       "    </tr>\n",
       "    <tr>\n",
       "      <th>3003</th>\n",
       "      <td>[croatia, deserve, that, goal, and, more]</td>\n",
       "      <td>reddit</td>\n",
       "      <td>0</td>\n",
       "    </tr>\n",
       "    <tr>\n",
       "      <th>1711</th>\n",
       "      <td>[forza, bologna]</td>\n",
       "      <td>youtube</td>\n",
       "      <td>0</td>\n",
       "    </tr>\n",
       "    <tr>\n",
       "      <th>2622</th>\n",
       "      <td>[cam, on, ingerland, score, sam, gaos]</td>\n",
       "      <td>reddit</td>\n",
       "      <td>0</td>\n",
       "    </tr>\n",
       "    <tr>\n",
       "      <th>3082</th>\n",
       "      <td>[own, goal]</td>\n",
       "      <td>reddit</td>\n",
       "      <td>0</td>\n",
       "    </tr>\n",
       "  </tbody>\n",
       "</table>\n",
       "</div>"
      ],
      "text/plain": [
       "                                                comment   source  label\n",
       "2172  [good, luck, to, both, although, im, personall...   reddit      0\n",
       "3003          [croatia, deserve, that, goal, and, more]   reddit      0\n",
       "1711                                   [forza, bologna]  youtube      0\n",
       "2622             [cam, on, ingerland, score, sam, gaos]   reddit      0\n",
       "3082                                        [own, goal]   reddit      0"
      ]
     },
     "execution_count": 12,
     "metadata": {},
     "output_type": "execute_result"
    }
   ],
   "source": [
    "# Convert comment to strings\n",
    "df['comment'] = df['comment'].apply(str)\n",
    "\n",
    "# Tokenize using Tokenizer\n",
    "tokenizer = WordPunctTokenizer()\n",
    "df['comment'] = df['comment'].apply(tokenizer.tokenize)\n",
    "\n",
    "# Show random 5 rows\n",
    "df.sample(5, random_state=2)"
   ]
  },
  {
   "cell_type": "markdown",
   "metadata": {},
   "source": [
    "Remove Stopwords"
   ]
  },
  {
   "cell_type": "code",
   "execution_count": 13,
   "metadata": {},
   "outputs": [
    {
     "data": {
      "text/html": [
       "<div>\n",
       "<style scoped>\n",
       "    .dataframe tbody tr th:only-of-type {\n",
       "        vertical-align: middle;\n",
       "    }\n",
       "\n",
       "    .dataframe tbody tr th {\n",
       "        vertical-align: top;\n",
       "    }\n",
       "\n",
       "    .dataframe thead th {\n",
       "        text-align: right;\n",
       "    }\n",
       "</style>\n",
       "<table border=\"1\" class=\"dataframe\">\n",
       "  <thead>\n",
       "    <tr style=\"text-align: right;\">\n",
       "      <th></th>\n",
       "      <th>comment</th>\n",
       "      <th>source</th>\n",
       "      <th>label</th>\n",
       "    </tr>\n",
       "  </thead>\n",
       "  <tbody>\n",
       "    <tr>\n",
       "      <th>1135</th>\n",
       "      <td>[cant, believe, icardi, missed, penalty, score...</td>\n",
       "      <td>youtube</td>\n",
       "      <td>0</td>\n",
       "    </tr>\n",
       "    <tr>\n",
       "      <th>1857</th>\n",
       "      <td>[congratulations, morocco, win, th, world, mea...</td>\n",
       "      <td>youtube</td>\n",
       "      <td>0</td>\n",
       "    </tr>\n",
       "    <tr>\n",
       "      <th>2481</th>\n",
       "      <td>[another, long, past, due, debt, paid, footbal...</td>\n",
       "      <td>reddit</td>\n",
       "      <td>0</td>\n",
       "    </tr>\n",
       "    <tr>\n",
       "      <th>988</th>\n",
       "      <td>[inter, arsenal, surprise, package, seasons, c...</td>\n",
       "      <td>youtube</td>\n",
       "      <td>0</td>\n",
       "    </tr>\n",
       "    <tr>\n",
       "      <th>102</th>\n",
       "      <td>[little, stupid, bitch, dont, fuck, yoooooouuuu]</td>\n",
       "      <td>kaggle</td>\n",
       "      <td>1</td>\n",
       "    </tr>\n",
       "  </tbody>\n",
       "</table>\n",
       "</div>"
      ],
      "text/plain": [
       "                                                comment   source  label\n",
       "1135  [cant, believe, icardi, missed, penalty, score...  youtube      0\n",
       "1857  [congratulations, morocco, win, th, world, mea...  youtube      0\n",
       "2481  [another, long, past, due, debt, paid, footbal...   reddit      0\n",
       "988   [inter, arsenal, surprise, package, seasons, c...  youtube      0\n",
       "102    [little, stupid, bitch, dont, fuck, yoooooouuuu]   kaggle      1"
      ]
     },
     "execution_count": 13,
     "metadata": {},
     "output_type": "execute_result"
    }
   ],
   "source": [
    "#remove stopwords\n",
    "stopwords = stopwords.words('english')\n",
    "df['comment'] = df['comment'].apply(lambda x: [item for item in x if item not in stopwords])\n",
    "\n",
    "#show random 5 rows\n",
    "df.sample(5, random_state=1)"
   ]
  },
  {
   "cell_type": "markdown",
   "metadata": {},
   "source": [
    "Remove special characters"
   ]
  },
  {
   "cell_type": "code",
   "execution_count": 14,
   "metadata": {},
   "outputs": [],
   "source": [
    "def rem_nonalpha(text):\n",
    "    '''Function to remove the non-alphanumeric characters from the text'''\n",
    "    text = [word for word in text if word.isalpha()]\n",
    "    return text\n",
    "\n",
    "# Apply the function to the 'comment' column\n",
    "df['comment'] = df['comment'].apply(rem_nonalpha)"
   ]
  },
  {
   "cell_type": "markdown",
   "metadata": {},
   "source": [
    "Remove digits"
   ]
  },
  {
   "cell_type": "code",
   "execution_count": 15,
   "metadata": {},
   "outputs": [],
   "source": [
    "# Remove digits from each comment in the DataFrame\n",
    "def remove_digits(comment):\n",
    "    return [item for item in comment if not item.isdigit()]\n",
    "\n",
    "# Apply the function to the 'comment' column\n",
    "df['comment'] = df['comment'].apply(remove_digits)"
   ]
  },
  {
   "cell_type": "markdown",
   "metadata": {},
   "source": [
    "Check for data balance"
   ]
  },
  {
   "cell_type": "code",
   "execution_count": 16,
   "metadata": {},
   "outputs": [
    {
     "data": {
      "image/png": "[encoded data removed]",
      "text/plain": [
       "<Figure size 1200x500 with 1 Axes>"
      ]
     },
     "metadata": {},
     "output_type": "display_data"
    }
   ],
   "source": [
    "sns.countplot(x='label', data=df)\n",
    "plt.title('Label Distribution')\n",
    "plt.xlabel('Label')\n",
    "plt.ylabel('Count')\n",
    "for index, value in df['label'].value_counts().items():\n",
    "    plt.text(index, value, str(value), ha = 'center', va = 'bottom')\n",
    "plt.show()\n",
    "\n",
    "\n"
   ]
  },
  {
   "cell_type": "markdown",
   "metadata": {},
   "source": [
    "Explore most frequently used words"
   ]
  },
  {
   "cell_type": "code",
   "execution_count": 17,
   "metadata": {},
   "outputs": [
    {
     "name": "stdout",
     "output_type": "stream",
     "text": [
      "[('like', 308), ('game', 253), ('tears', 253), ('team', 235), ('face', 207), ('bitch', 188), ('england', 177), ('dont', 170), ('one', 161), ('im', 154)]\n"
     ]
    }
   ],
   "source": [
    "from collections import Counter\n",
    "results = Counter()\n",
    "df['comment'].apply(results.update)\n",
    "#print the top 10 most common terms in the tweet \n",
    "print(results.most_common(10))"
   ]
  },
  {
   "cell_type": "markdown",
   "metadata": {},
   "source": [
    "## Predictive Modelling"
   ]
  },
  {
   "cell_type": "markdown",
   "metadata": {},
   "source": [
    "Data formatting and predictive modelling"
   ]
  },
  {
   "cell_type": "code",
   "execution_count": 18,
   "metadata": {},
   "outputs": [
    {
     "name": "stdout",
     "output_type": "stream",
     "text": [
      "Null values: comment    0\n",
      "source     0\n",
      "label      0\n",
      "dtype: int64\n"
     ]
    }
   ],
   "source": [
    "# check for null values\n",
    "print(f\"Null values: {df.isnull().sum()}\")"
   ]
  },
  {
   "cell_type": "code",
   "execution_count": 19,
   "metadata": {},
   "outputs": [
    {
     "data": {
      "text/html": [
       "<div>\n",
       "<style scoped>\n",
       "    .dataframe tbody tr th:only-of-type {\n",
       "        vertical-align: middle;\n",
       "    }\n",
       "\n",
       "    .dataframe tbody tr th {\n",
       "        vertical-align: top;\n",
       "    }\n",
       "\n",
       "    .dataframe thead th {\n",
       "        text-align: right;\n",
       "    }\n",
       "</style>\n",
       "<table border=\"1\" class=\"dataframe\">\n",
       "  <thead>\n",
       "    <tr style=\"text-align: right;\">\n",
       "      <th></th>\n",
       "      <th>comment</th>\n",
       "      <th>source</th>\n",
       "      <th>label</th>\n",
       "    </tr>\n",
       "  </thead>\n",
       "  <tbody>\n",
       "    <tr>\n",
       "      <th>1135</th>\n",
       "      <td>cant believe icardi missed penalty scored norm...</td>\n",
       "      <td>youtube</td>\n",
       "      <td>0</td>\n",
       "    </tr>\n",
       "    <tr>\n",
       "      <th>1857</th>\n",
       "      <td>congratulations morocco win th world mean real...</td>\n",
       "      <td>youtube</td>\n",
       "      <td>0</td>\n",
       "    </tr>\n",
       "    <tr>\n",
       "      <th>2481</th>\n",
       "      <td>another long past due debt paid football manci...</td>\n",
       "      <td>reddit</td>\n",
       "      <td>0</td>\n",
       "    </tr>\n",
       "    <tr>\n",
       "      <th>988</th>\n",
       "      <td>inter arsenal surprise package seasons champio...</td>\n",
       "      <td>youtube</td>\n",
       "      <td>0</td>\n",
       "    </tr>\n",
       "    <tr>\n",
       "      <th>102</th>\n",
       "      <td>little stupid bitch dont fuck yoooooouuuu</td>\n",
       "      <td>kaggle</td>\n",
       "      <td>1</td>\n",
       "    </tr>\n",
       "  </tbody>\n",
       "</table>\n",
       "</div>"
      ],
      "text/plain": [
       "                                                comment   source  label\n",
       "1135  cant believe icardi missed penalty scored norm...  youtube      0\n",
       "1857  congratulations morocco win th world mean real...  youtube      0\n",
       "2481  another long past due debt paid football manci...   reddit      0\n",
       "988   inter arsenal surprise package seasons champio...  youtube      0\n",
       "102           little stupid bitch dont fuck yoooooouuuu   kaggle      1"
      ]
     },
     "execution_count": 19,
     "metadata": {},
     "output_type": "execute_result"
    }
   ],
   "source": [
    "# join comment back together\n",
    "df[\"comment\"] = df[\"comment\"].apply(lambda x: ' '.join(x))\n",
    "\n",
    "# show random 5 rows\n",
    "df.sample(5, random_state=1)"
   ]
  },
  {
   "cell_type": "markdown",
   "metadata": {},
   "source": []
  },
  {
   "cell_type": "code",
   "execution_count": 20,
   "metadata": {},
   "outputs": [],
   "source": [
    "#split data into input X and output y\n",
    "X = df['comment']\n",
    "y = df['label']"
   ]
  },
  {
   "cell_type": "code",
   "execution_count": 21,
   "metadata": {},
   "outputs": [
    {
     "name": "stdout",
     "output_type": "stream",
     "text": [
      "(3089,) (773,) (3089,) (773,)\n"
     ]
    }
   ],
   "source": [
    "# split the data into training and testing sets\n",
    "from sklearn.model_selection import train_test_split\n",
    "X_train, X_test, y_train, y_test = train_test_split(X, y, test_size=0.2, random_state=1)\n",
    "print(X_train.shape, X_test.shape, y_train.shape, y_test.shape)"
   ]
  },
  {
   "cell_type": "code",
   "execution_count": 22,
   "metadata": {},
   "outputs": [
    {
     "name": "stdout",
     "output_type": "stream",
     "text": [
      "(3089, 5000) (773, 5000)\n"
     ]
    }
   ],
   "source": [
    "# use TfidfVectorizer to convert the raw documents into feature matrix\n",
    "from sklearn.feature_extraction.text import TfidfVectorizer\n",
    "vectorizer = TfidfVectorizer(max_features=5000)\n",
    "X_train = vectorizer.fit_transform(X_train).todense()\n",
    "X_test = vectorizer.transform(X_test).todense()\n",
    "print(X_train.shape, X_test.shape)"
   ]
  },
  {
   "cell_type": "markdown",
   "metadata": {},
   "source": [
    "# Model building: Ordinary logistics regression"
   ]
  },
  {
   "cell_type": "code",
   "execution_count": 23,
   "metadata": {},
   "outputs": [],
   "source": [
    "import numpy as np\n",
    "# ordinary logistic regression\n",
    "from sklearn.linear_model import LogisticRegression\n",
    "\n",
    "# instantiate the model (using the default parameters)\n",
    "logreg = LogisticRegression()\n",
    "logreg.fit(np.asarray(X_train), np.asarray(y_train))\n",
    "train_predictions = logreg.predict(np.asarray(X_train))\n",
    "test_predictions = logreg.predict(np.asarray(X_test))\n"
   ]
  },
  {
   "cell_type": "markdown",
   "metadata": {},
   "source": [
    "Model evaluation"
   ]
  },
  {
   "cell_type": "code",
   "execution_count": 24,
   "metadata": {},
   "outputs": [
    {
     "name": "stdout",
     "output_type": "stream",
     "text": [
      "Train Accuracy: 0.8883133700226611\n",
      "Test Accuracy: 0.851228978007762\n"
     ]
    }
   ],
   "source": [
    "from sklearn.metrics import accuracy_score, classification_report, confusion_matrix, f1_score\n",
    "\n",
    "# accuracy score\n",
    "print(f\"Train Accuracy: {accuracy_score(y_train, train_predictions)}\")\n",
    "print(f\"Test Accuracy: {accuracy_score(y_test, test_predictions)}\")"
   ]
  },
  {
   "cell_type": "code",
   "execution_count": 25,
   "metadata": {},
   "outputs": [
    {
     "name": "stdout",
     "output_type": "stream",
     "text": [
      "Train Classification Report\n",
      "              precision    recall  f1-score   support\n",
      "\n",
      "           0       0.87      1.00      0.93      2371\n",
      "           1       0.98      0.53      0.69       718\n",
      "\n",
      "    accuracy                           0.89      3089\n",
      "   macro avg       0.93      0.76      0.81      3089\n",
      "weighted avg       0.90      0.89      0.88      3089\n",
      "\n",
      "Test Classification Report\n",
      "              precision    recall  f1-score   support\n",
      "\n",
      "           0       0.84      0.99      0.91       582\n",
      "           1       0.92      0.43      0.59       191\n",
      "\n",
      "    accuracy                           0.85       773\n",
      "   macro avg       0.88      0.71      0.75       773\n",
      "weighted avg       0.86      0.85      0.83       773\n",
      "\n"
     ]
    }
   ],
   "source": [
    "# classification report\n",
    "print(\"Train Classification Report\")\n",
    "print(classification_report(y_train, train_predictions))\n",
    "print(\"Test Classification Report\")\n",
    "print(classification_report(y_test, test_predictions))"
   ]
  },
  {
   "cell_type": "markdown",
   "metadata": {},
   "source": [
    "Weighted logistic regression"
   ]
  },
  {
   "cell_type": "code",
   "execution_count": 26,
   "metadata": {},
   "outputs": [
    {
     "name": "stdout",
     "output_type": "stream",
     "text": [
      "Train Classification Report\n",
      "              precision    recall  f1-score   support\n",
      "\n",
      "           0       1.00      0.87      0.93      2371\n",
      "           1       0.69      1.00      0.82       718\n",
      "\n",
      "    accuracy                           0.90      3089\n",
      "   macro avg       0.85      0.93      0.87      3089\n",
      "weighted avg       0.93      0.90      0.90      3089\n",
      "\n",
      "Test Classification Report\n",
      "              precision    recall  f1-score   support\n",
      "\n",
      "           0       0.93      0.74      0.82       582\n",
      "           1       0.51      0.82      0.63       191\n",
      "\n",
      "    accuracy                           0.76       773\n",
      "   macro avg       0.72      0.78      0.73       773\n",
      "weighted avg       0.82      0.76      0.78       773\n",
      "\n"
     ]
    }
   ],
   "source": [
    "# define the weight of the classes using inverse ratio\n",
    "weights = {0: 1.0, 1:13.0}\n",
    "#instantiate the logistic regression model and account for the weights to be applied for model coefficients update magnitude\n",
    "logreg = LogisticRegression(class_weight=weights)\n",
    "\n",
    "#fit the model\n",
    "logreg.fit(np.asarray(X_train), np.asarray(y_train))\n",
    "train_predictions = logreg.predict(np.asarray(X_train))\n",
    "test_predictions = logreg.predict(np.asarray(X_test))\n",
    "\n",
    "#classification report\n",
    "print(\"Train Classification Report\")\n",
    "print(classification_report(y_train, train_predictions))\n",
    "print(\"Test Classification Report\")\n",
    "print(classification_report(y_test, test_predictions))"
   ]
  },
  {
   "cell_type": "markdown",
   "metadata": {},
   "source": [
    "Regularization and Hyperparameter Tuning"
   ]
  },
  {
   "cell_type": "code",
   "execution_count": 27,
   "metadata": {},
   "outputs": [
    {
     "data": {
      "text/plain": [
       "'# regularization and hyperparameter tuning\\nfrom sklearn.model_selection import GridSearchCV\\n# define the grid\\nparam_grid = {\\'C\\': [0.001, 0.01, 0.1, 1, 10, 100, 1000]}\\n# instantiate the model\\nlogreg = LogisticRegression(class_weight=weights)\\n# instantiate the grid search model\\ngrid_search = GridSearchCV(logreg, param_grid, cv=5)\\n# fit the grid search to the data\\ngrid_search.fit(np.asarray(X_train), np.asarray(y_train))\\n# print the best parameters\\nprint(f\"Best Parameters: {grid_search.best_params_}\")'"
      ]
     },
     "execution_count": 27,
     "metadata": {},
     "output_type": "execute_result"
    }
   ],
   "source": [
    "# regularization and hyperparameter tuning\n",
    "'''from sklearn.model_selection import GridSearchCV\n",
    "# define the grid\n",
    "param_grid = {'C': [0.001, 0.01, 0.1, 1, 10, 100, 1000]}\n",
    "# instantiate the model\n",
    "logreg = LogisticRegression(class_weight=weights)\n",
    "# instantiate the grid search model\n",
    "grid_search = GridSearchCV(logreg, param_grid, cv=5)\n",
    "# fit the grid search to the data\n",
    "grid_search.fit(np.asarray(X_train), np.asarray(y_train))\n",
    "# print the best parameters\n",
    "print(f\"Best Parameters: {grid_search.best_params_}\")'''"
   ]
  },
  {
   "cell_type": "markdown",
   "metadata": {},
   "source": [
    "Fine tuned Model with Balanced Class Weights"
   ]
  },
  {
   "cell_type": "code",
   "execution_count": 28,
   "metadata": {},
   "outputs": [
    {
     "ename": "NameError",
     "evalue": "name 'result' is not defined",
     "output_type": "error",
     "traceback": [
      "\u001b[1;31m---------------------------------------------------------------------------\u001b[0m",
      "\u001b[1;31mNameError\u001b[0m                                 Traceback (most recent call last)",
      "Cell \u001b[1;32mIn[28], line 2\u001b[0m\n\u001b[0;32m      1\u001b[0m \u001b[38;5;66;03m# retrieve the best model\u001b[39;00m\n\u001b[1;32m----> 2\u001b[0m best_model \u001b[38;5;241m=\u001b[39m \u001b[43mresult\u001b[49m\u001b[38;5;241m.\u001b[39mbest_estimator_\n\u001b[0;32m      3\u001b[0m \u001b[38;5;28mprint\u001b[39m(best_model)\n",
      "\u001b[1;31mNameError\u001b[0m: name 'result' is not defined"
     ]
    }
   ],
   "source": [
    "'''# retrieve the best model\n",
    "best_model = result.best_estimator_\n",
    "print(best_model)"
   ]
  },
  {
   "cell_type": "code",
   "execution_count": 29,
   "metadata": {},
   "outputs": [],
   "source": [
    "#instantiate the best model\n",
    "logreg = LogisticRegression(C=10, class_weight={0: 1.0, 1: 13}, penalty='l1', solver='liblinear')"
   ]
  },
  {
   "cell_type": "code",
   "execution_count": 30,
   "metadata": {},
   "outputs": [
    {
     "name": "stdout",
     "output_type": "stream",
     "text": [
      "Train Classification Report\n",
      "              precision    recall  f1-score   support\n",
      "\n",
      "           0       1.00      1.00      1.00      2371\n",
      "           1       0.99      1.00      1.00       718\n",
      "\n",
      "    accuracy                           1.00      3089\n",
      "   macro avg       1.00      1.00      1.00      3089\n",
      "weighted avg       1.00      1.00      1.00      3089\n",
      "\n",
      "Test Classification Report\n",
      "              precision    recall  f1-score   support\n",
      "\n",
      "           0       0.89      0.90      0.90       582\n",
      "           1       0.69      0.65      0.67       191\n",
      "\n",
      "    accuracy                           0.84       773\n",
      "   macro avg       0.79      0.78      0.78       773\n",
      "weighted avg       0.84      0.84      0.84       773\n",
      "\n",
      "Train Confusion Matrix\n",
      "[[2365    6]\n",
      " [   1  717]]\n",
      "Test Confusion Matrix\n",
      "[[525  57]\n",
      " [ 66 125]]\n"
     ]
    }
   ],
   "source": [
    "logreg.fit(np.asarray(X_train), np.asarray(y_train))  # Fit the logistic regression model\n",
    "\n",
    "train_predictions = logreg.predict(np.asarray(X_train))\n",
    "test_predictions = logreg.predict(np.asarray(X_test))\n",
    "\n",
    "# Classification report\n",
    "print(\"Train Classification Report\")\n",
    "print(classification_report(y_train, train_predictions))\n",
    "print(\"Test Classification Report\")\n",
    "print(classification_report(y_test, test_predictions))\n",
    "\n",
    "# Confusion matrix\n",
    "print(\"Train Confusion Matrix\")\n",
    "print(confusion_matrix(y_train, np.asarray(train_predictions)))\n",
    "print(\"Test Confusion Matrix\")\n",
    "print(confusion_matrix(y_test, np.asarray(test_predictions)))\n"
   ]
  },
  {
   "cell_type": "code",
   "execution_count": 31,
   "metadata": {},
   "outputs": [
    {
     "data": {
      "image/png": "[encoded data removed]",
      "text/plain": [
       "<Figure size 1200x500 with 2 Axes>"
      ]
     },
     "metadata": {},
     "output_type": "display_data"
    }
   ],
   "source": [
    "# confusion matrix as a heatmap\n",
    "conf_matrix = confusion_matrix(y_test, test_predictions)\n",
    "sns.heatmap(conf_matrix, annot=True, fmt='d', cmap='Blues')\n",
    "plt.xlabel('Predicted')\n",
    "plt.ylabel('Actual')\n",
    "plt.title('Confusion Matrix')\n",
    "plt.show()\n"
   ]
  },
  {
   "cell_type": "markdown",
   "metadata": {},
   "source": [
    "Export model"
   ]
  },
  {
   "cell_type": "code",
   "execution_count": 32,
   "metadata": {},
   "outputs": [
    {
     "data": {
      "text/plain": [
       "['vectorizer.pkl']"
      ]
     },
     "execution_count": 32,
     "metadata": {},
     "output_type": "execute_result"
    }
   ],
   "source": [
    "#export model\n",
    "import joblib\n",
    "joblib.dump(logreg, 'logreg_model.pkl')\n",
    "joblib.dump(vectorizer, 'vectorizer.pkl')"
   ]
  },
  {
   "cell_type": "markdown",
   "metadata": {},
   "source": [
    "# make prediction with model"
   ]
  },
  {
   "cell_type": "code",
   "execution_count": 51,
   "metadata": {},
   "outputs": [],
   "source": [
    "# make predictions on a new dataframes column \"comment\"\n",
    "# make predictions on a new dataframes column \"comments\"\n",
    "new_data = pd.read_excel(r'C:\\VSCode\\NLP4B_Football\\Own_model\\model creation\\youtube_cleaned_for_label_NEW.xlsx')\n",
    "new_data[\"comments\"] = new_data[\"comments\"].astype(str)\n",
    "new_data[\"comments\"] = new_data[\"comments\"].apply(convert_emojis_to_word)\n",
    "new_data.replace(r'@[\\w]*', '', regex=True, inplace=True)\n",
    "new_data.replace(r'#[\\w]*', '', regex=True, inplace=True)\n",
    "new_data.replace(r'https?://[A-Za-z0-9./]+', '', regex=True, inplace=True)\n",
    "new_data.replace(r'[^\\w\\s]', '', regex=True, inplace=True)\n",
    "new_data.replace(r'\\d+', '', regex=True, inplace=True)\n",
    "new_data.replace(r'_', ' ', regex=True, inplace=True)\n",
    "new_data['comments'] = new_data['comments'].apply(tokenizer.tokenize)\n",
    "new_data['comments'] = new_data['comments'].apply(lambda x: [item for item in x if item not in stopwords])\n",
    "new_data['comments'] = new_data['comments'].apply(rem_nonalpha)\n",
    "new_data['comments'] = new_data['comments'].apply(remove_digits)\n",
    "new_data[\"comments\"] = new_data[\"comments\"].apply(lambda x: ' '.join(x))\n",
    "new_data[\"comments\"] = new_data[\"comments\"].astype(str)\n",
    "new_data_predictions = logreg.predict(np.asarray(vectorizer.transform(new_data[\"comments\"]).todense()))\n",
    "new_data[\"label\"] = new_data_predictions\n",
    "new_data.to_excel(r'C:\\VSCode\\NLP4B_Football\\Own_model\\model creation\\pred_youtube_cleaned_for_label.xlsx', index=False)\n"
   ]
  },
  {
   "cell_type": "markdown",
   "metadata": {},
   "source": [
    "evaluate newdata"
   ]
  },
  {
   "cell_type": "code",
   "execution_count": 60,
   "metadata": {},
   "outputs": [
    {
     "name": "stdout",
     "output_type": "stream",
     "text": [
      "label\n",
      "0    1633\n",
      "1     140\n",
      "Name: count, dtype: int64\n",
      "label\n",
      "0    0.921038\n",
      "1    0.078962\n",
      "Name: proportion, dtype: float64\n",
      "type\n",
      "league           0.578571\n",
      "international    0.421429\n",
      "Name: proportion, dtype: float64\n",
      "type\n",
      "league           0.578571\n",
      "international    0.421429\n",
      "Name: proportion, dtype: float64\n",
      "type\n",
      "league           81\n",
      "international    59\n",
      "Name: count, dtype: int64\n"
     ]
    },
    {
     "data": {
      "image/png": "[encoded data removed]",
      "text/plain": [
       "<Figure size 1200x500 with 1 Axes>"
      ]
     },
     "metadata": {},
     "output_type": "display_data"
    },
    {
     "data": {
      "image/png": "[encoded data removed]",
      "text/plain": [
       "<Figure size 1200x500 with 1 Axes>"
      ]
     },
     "metadata": {},
     "output_type": "display_data"
    }
   ],
   "source": [
    "#copy dataframe\n",
    "football_offense = new_data.copy()\n",
    "\n",
    "#output number of label 1 and 0 comments\n",
    "print(football_offense['label'].value_counts())\n",
    "\n",
    "#find the percentage of label 1 comments\n",
    "print(football_offense['label'].value_counts(normalize=True))\n",
    "\n",
    "# find percentage of label 1 comments where type is international   \n",
    "print(football_offense[football_offense['label'] == 1]['type'].value_counts(normalize=True))\n",
    "\n",
    "# find percentage of label 1 comments where type is club\n",
    "print(football_offense[football_offense['label'] == 1]['type'].value_counts(normalize=True))\n",
    "\n",
    "# compare both types numerically and visually\n",
    "print(football_offense[football_offense['label'] == 1]['type'].value_counts())\n",
    "sns.countplot(x='type', data=football_offense[football_offense['label'] == 1])\n",
    "plt.title('Type Distribution of Label 1 Comments')\n",
    "plt.xlabel('Type')\n",
    "plt.ylabel('Count')\n",
    "plt.show()\n",
    "\n",
    "# plot percentages of label 1 out of all comments for each type\n",
    "sns.barplot(x=football_offense['type'], y=football_offense['label'], estimator=lambda x: sum(x==1)*100.0/len(x))\n",
    "plt.title('Percentage of Label 1 Comments for Each Type')\n",
    "plt.xlabel('Type')\n",
    "plt.ylabel('Percentage')\n",
    "plt.show()\n",
    "\n",
    "\n",
    "\n",
    "\n"
   ]
  }
 ],
 "metadata": {
  "kernelspec": {
   "display_name": "NLP4B_Project",
   "language": "python",
   "name": "python3"
  },
  "language_info": {
   "codemirror_mode": {
    "name": "ipython",
    "version": 3
   },
   "file_extension": ".py",
   "mimetype": "text/x-python",
   "name": "python",
   "nbconvert_exporter": "python",
   "pygments_lexer": "ipython3",
   "version": "3.10.13"
  }
 },
 "nbformat": 4,
 "nbformat_minor": 2
}
