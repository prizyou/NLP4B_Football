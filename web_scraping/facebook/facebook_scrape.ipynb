{
 "cells": [
  {
   "cell_type": "code",
   "execution_count": null,
   "metadata": {},
   "outputs": [],
   "source": [
    "import requests\n",
    "import pandas as pd\n",
    "import json\n",
    "\n",
    "page_id = '181744498548976' # your page id, ex: '123456789'\n",
    "post_id = '858717552920899' # your post id, ex: '123456789'\n",
    "access_token = '' # your access token, from https://developers.facebook.com/tools/explorer/\n",
    "\n",
    "url = f'https://graph.facebook.com/v18.0/{page_id}_{post_id}/comments?access_token={access_token}'\n",
    "\n",
    "response = requests.request(\"GET\", url)\n",
    "\n",
    "# save name, time, message in excel file\n",
    "data = json.loads(response.text)\n",
    "\n",
    "# create object with only name, time, message\n",
    "def get_comment(comment):\n",
    "    return {\n",
    "        'name': comment['from']['name'],\n",
    "        'time': comment['created_time'],\n",
    "        'message': comment['message']\n",
    "    }\n",
    "\n",
    "excel_data = list(map(get_comment, data['data']))\n",
    "df = pd.DataFrame(excel_data)\n",
    "df.to_excel('comments.xlsx', index=False)"
   ]
  }
 ],
 "metadata": {
  "kernelspec": {
   "display_name": "NLP4B_Project",
   "language": "python",
   "name": "python3"
  },
  "language_info": {
   "name": "python",
   "version": "0.0.0"
  }
 },
 "nbformat": 4,
 "nbformat_minor": 2
}
