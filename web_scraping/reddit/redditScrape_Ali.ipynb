{
 "cells": [
  {
   "cell_type": "code",
   "execution_count": null,
   "metadata": {},
   "outputs": [
    {
     "ename": "",
     "evalue": "",
     "output_type": "error",
     "traceback": [
      "\u001b[1;31mThe kernel failed to start due to the missing module 'packaging'. Consider installing this module.\n",
      "\u001b[1;31mClick <a href='https://aka.ms/kernelFailuresMissingModule'>here</a> for more info."
     ]
    }
   ],
   "source": [
    "import praw\n",
    "\n",
    "reddit = praw.Reddit(client_id='Z2oVhG8VMNytne7QB5RmGA', client_secret='1JGNREK7FHIsbay72Z-aaMfWYhGrMQ', user_agent='NLP')\n",
    "\n",
    "import pandas as pd\n",
    "pd.set_option('max_colwidth', None)\n",
    "df = []\n",
    "\n",
    "subreddit = reddit.subreddit('football')\n",
    "\n",
    "for post in subreddit.hot(limit=1000):\n",
    "    df.append([post.title, post.score,  post.num_comments, post.selftext])\n",
    "\n",
    "df = pd.DataFrame(df,columns=['title', 'score', 'num_comments', 'body'])\n",
    "df"
   ]
  }
 ],
 "metadata": {
  "kernelspec": {
   "display_name": "NLPProject",
   "language": "python",
   "name": "python3"
  },
  "language_info": {
   "name": "python",
   "version": "3.10.13"
  }
 },
 "nbformat": 4,
 "nbformat_minor": 2
}
