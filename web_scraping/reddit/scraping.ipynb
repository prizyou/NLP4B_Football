{
 "cells": [
  {
   "cell_type": "markdown",
   "metadata": {},
   "source": [
    "This code imports the PRAW library, a Python wrapper for the Reddit API, allowing access to Reddit data. It also imports the MoreComments model from PRAW and the pandas library, enabling data manipulation and analysis using DataFrames."
   ]
  },
  {
   "cell_type": "code",
   "execution_count": 73,
   "metadata": {},
   "outputs": [],
   "source": [
    "import praw\n",
    "from praw.models import MoreComments\n",
    "import pandas as pd\n",
    "import os"
   ]
  },
  {
   "cell_type": "markdown",
   "metadata": {},
   "source": [
    "This code initializes a connection to the Reddit API using the provided client ID, client secret, and user agent. It enables access to Reddit's content and functionalities for data retrieval and analysis."
   ]
  },
  {
   "cell_type": "code",
   "execution_count": 74,
   "metadata": {},
   "outputs": [],
   "source": [
    "reddit = praw.Reddit(client_id='Z2oVhG8VMNytne7QB5RmGA', client_secret='1JGNREK7FHIsbay72Z-aaMfWYhGrMQ', user_agent='NLP')"
   ]
  },
  {
   "cell_type": "markdown",
   "metadata": {},
   "source": [
    "This code defines a list redditIds containing specific Reddit post IDs. It also initializes an empty list comment_data to store data collected from Reddit comments."
   ]
  },
  {
   "cell_type": "code",
   "execution_count": 75,
   "metadata": {},
   "outputs": [],
   "source": [
    "redditIds = [\"8z23sa\"] \n",
    "comment_data = [] "
   ]
  },
  {
   "cell_type": "markdown",
   "metadata": {},
   "source": [
    "\n",
    "This code iterates through each Reddit post ID in the redditIds list. For each post ID, it retrieves the corresponding Reddit post and its comments. It collects comments with fewer than 80 words into the comment_data list, limiting the total number of comments to 200 (comment_limit). Once the limit is reached, the loop terminates early to avoid collecting additional comments beyond the limit."
   ]
  },
  {
   "cell_type": "code",
   "execution_count": 76,
   "metadata": {},
   "outputs": [],
   "source": [
    "comment_limit = 300\n",
    "\n",
    "for redditId in redditIds:\n",
    "    post = reddit.submission(id=redditId)\n",
    "    comments = post.comments\n",
    "    comment_count = 0\n",
    "    \n",
    "    for comment in comments:\n",
    "        if isinstance(comment, MoreComments):\n",
    "            continue\n",
    "        if len(comment.body.split()) < 80:\n",
    "            comment_data.append({'Comment': comment.body})\n",
    "            comment_count += 1\n",
    "            \n",
    "            if comment_count >= comment_limit:\n",
    "                break"
   ]
  },
  {
   "cell_type": "markdown",
   "metadata": {},
   "source": [
    "This code creates a Pandas DataFrame (df) from the comment_data list, which contains Reddit comments. It adds two new columns to the DataFrame: \"label\", initialized with empty values, and \"source\", set to \"reddit\" for each entry, indicating the origin of the data."
   ]
  },
  {
   "cell_type": "code",
   "execution_count": 77,
   "metadata": {},
   "outputs": [],
   "source": [
    "df = pd.DataFrame(comment_data)\n",
    "df['label'] = ''\n",
    "df[\"source\"] = 'reddit'"
   ]
  },
  {
   "cell_type": "markdown",
   "metadata": {},
   "source": [
    "This block of code opens a file named \"Reddit_IDs.txt\" in write mode, then writes the current Reddit ID (redditId) followed by a newline character to the file. This effectively logs the Reddit ID for tracking purposes."
   ]
  },
  {
   "cell_type": "code",
   "execution_count": 78,
   "metadata": {},
   "outputs": [],
   "source": [
    "with open(\"Reddit_IDs.txt\", \"a\") as file:\n",
    "    file.write(redditId + \"\\n\")"
   ]
  },
  {
   "cell_type": "markdown",
   "metadata": {},
   "source": [
    "This code block checks if the file \"redditComments_NEW.csv\" exists.\n",
    "\n",
    "If the file does not exist, it writes the DataFrame df to the CSV file, including the header. \n",
    "\n",
    "If the file already exists, it appends the DataFrame to the existing CSV file without adding the header again. \n",
    "\n",
    "This ensures that the header is added only once, preventing duplication when the code is reloaded."
   ]
  },
  {
   "cell_type": "code",
   "execution_count": 79,
   "metadata": {},
   "outputs": [],
   "source": [
    "if not os.path.exists(\"redditComments_NEW.csv\"):\n",
    "    df.to_csv(\"redditComments_NEW.csv\", sep=';', index=False, mode='w', header=True)\n",
    "else:\n",
    "    df.to_csv(\"redditComments_NEW.csv\", sep=';', index=False, mode='a', header=False)\n"
   ]
  },
  {
   "cell_type": "markdown",
   "metadata": {},
   "source": [
    "This code displays the first 20 rows of the DataFrame"
   ]
  },
  {
   "cell_type": "code",
   "execution_count": 80,
   "metadata": {},
   "outputs": [
    {
     "data": {
      "text/html": [
       "<div>\n",
       "<style scoped>\n",
       "    .dataframe tbody tr th:only-of-type {\n",
       "        vertical-align: middle;\n",
       "    }\n",
       "\n",
       "    .dataframe tbody tr th {\n",
       "        vertical-align: top;\n",
       "    }\n",
       "\n",
       "    .dataframe thead th {\n",
       "        text-align: right;\n",
       "    }\n",
       "</style>\n",
       "<table border=\"1\" class=\"dataframe\">\n",
       "  <thead>\n",
       "    <tr style=\"text-align: right;\">\n",
       "      <th></th>\n",
       "      <th>Comment</th>\n",
       "      <th>label</th>\n",
       "      <th>source</th>\n",
       "    </tr>\n",
       "  </thead>\n",
       "  <tbody>\n",
       "    <tr>\n",
       "      <th>0</th>\n",
       "      <td>Meanwhile random Ronaldinho on the drums becau...</td>\n",
       "      <td></td>\n",
       "      <td>reddit</td>\n",
       "    </tr>\n",
       "    <tr>\n",
       "      <th>1</th>\n",
       "      <td>Lloris has a bet on for 4-2</td>\n",
       "      <td></td>\n",
       "      <td>reddit</td>\n",
       "    </tr>\n",
       "    <tr>\n",
       "      <th>2</th>\n",
       "      <td>[deleted]</td>\n",
       "      <td></td>\n",
       "      <td>reddit</td>\n",
       "    </tr>\n",
       "    <tr>\n",
       "      <th>3</th>\n",
       "      <td>I'll never understand while fuckery like kicki...</td>\n",
       "      <td></td>\n",
       "      <td>reddit</td>\n",
       "    </tr>\n",
       "    <tr>\n",
       "      <th>4</th>\n",
       "      <td>Imagine the biggest game in the world not bein...</td>\n",
       "      <td></td>\n",
       "      <td>reddit</td>\n",
       "    </tr>\n",
       "    <tr>\n",
       "      <th>5</th>\n",
       "      <td>Lmao, the Telemundo commentators: \"I don't kno...</td>\n",
       "      <td></td>\n",
       "      <td>reddit</td>\n",
       "    </tr>\n",
       "    <tr>\n",
       "      <th>6</th>\n",
       "      <td>Croatia is definitely playing like it’s the on...</td>\n",
       "      <td></td>\n",
       "      <td>reddit</td>\n",
       "    </tr>\n",
       "    <tr>\n",
       "      <th>7</th>\n",
       "      <td>FIFA has unlimited money and yet I can't think...</td>\n",
       "      <td></td>\n",
       "      <td>reddit</td>\n",
       "    </tr>\n",
       "    <tr>\n",
       "      <th>8</th>\n",
       "      <td>First step of Croatian master plan accomplishe...</td>\n",
       "      <td></td>\n",
       "      <td>reddit</td>\n",
       "    </tr>\n",
       "    <tr>\n",
       "      <th>9</th>\n",
       "      <td>Again, for sheer entertainment, this is the be...</td>\n",
       "      <td></td>\n",
       "      <td>reddit</td>\n",
       "    </tr>\n",
       "    <tr>\n",
       "      <th>10</th>\n",
       "      <td>ooh look lloris learned</td>\n",
       "      <td></td>\n",
       "      <td>reddit</td>\n",
       "    </tr>\n",
       "    <tr>\n",
       "      <th>11</th>\n",
       "      <td>At the end we didn’t have anything to lose in ...</td>\n",
       "      <td></td>\n",
       "      <td>reddit</td>\n",
       "    </tr>\n",
       "    <tr>\n",
       "      <th>12</th>\n",
       "      <td>Lloris: Not falling for that again</td>\n",
       "      <td></td>\n",
       "      <td>reddit</td>\n",
       "    </tr>\n",
       "    <tr>\n",
       "      <th>13</th>\n",
       "      <td>Gotta give it to our president - only girl on ...</td>\n",
       "      <td></td>\n",
       "      <td>reddit</td>\n",
       "    </tr>\n",
       "    <tr>\n",
       "      <th>14</th>\n",
       "      <td>Reddit crashed and rolled like Neymar for 5 mi...</td>\n",
       "      <td></td>\n",
       "      <td>reddit</td>\n",
       "    </tr>\n",
       "    <tr>\n",
       "      <th>15</th>\n",
       "      <td>Fuck it, they won it in my hearth.\\n\\nCongratz...</td>\n",
       "      <td></td>\n",
       "      <td>reddit</td>\n",
       "    </tr>\n",
       "    <tr>\n",
       "      <th>16</th>\n",
       "      <td>The game within the game: Will the mods sticky...</td>\n",
       "      <td></td>\n",
       "      <td>reddit</td>\n",
       "    </tr>\n",
       "    <tr>\n",
       "      <th>17</th>\n",
       "      <td>[deleted]</td>\n",
       "      <td></td>\n",
       "      <td>reddit</td>\n",
       "    </tr>\n",
       "    <tr>\n",
       "      <th>18</th>\n",
       "      <td>goddamnit and next will be maradona coming in ...</td>\n",
       "      <td></td>\n",
       "      <td>reddit</td>\n",
       "    </tr>\n",
       "    <tr>\n",
       "      <th>19</th>\n",
       "      <td>Never go 1-0 up against croatia</td>\n",
       "      <td></td>\n",
       "      <td>reddit</td>\n",
       "    </tr>\n",
       "  </tbody>\n",
       "</table>\n",
       "</div>"
      ],
      "text/plain": [
       "                                              Comment label  source\n",
       "0   Meanwhile random Ronaldinho on the drums becau...        reddit\n",
       "1                         Lloris has a bet on for 4-2        reddit\n",
       "2                                           [deleted]        reddit\n",
       "3   I'll never understand while fuckery like kicki...        reddit\n",
       "4   Imagine the biggest game in the world not bein...        reddit\n",
       "5   Lmao, the Telemundo commentators: \"I don't kno...        reddit\n",
       "6   Croatia is definitely playing like it’s the on...        reddit\n",
       "7   FIFA has unlimited money and yet I can't think...        reddit\n",
       "8   First step of Croatian master plan accomplishe...        reddit\n",
       "9   Again, for sheer entertainment, this is the be...        reddit\n",
       "10                            ooh look lloris learned        reddit\n",
       "11  At the end we didn’t have anything to lose in ...        reddit\n",
       "12                Lloris: Not falling for that again         reddit\n",
       "13  Gotta give it to our president - only girl on ...        reddit\n",
       "14  Reddit crashed and rolled like Neymar for 5 mi...        reddit\n",
       "15  Fuck it, they won it in my hearth.\\n\\nCongratz...        reddit\n",
       "16  The game within the game: Will the mods sticky...        reddit\n",
       "17                                          [deleted]        reddit\n",
       "18  goddamnit and next will be maradona coming in ...        reddit\n",
       "19                    Never go 1-0 up against croatia        reddit"
      ]
     },
     "execution_count": 80,
     "metadata": {},
     "output_type": "execute_result"
    }
   ],
   "source": [
    "df.head(20)"
   ]
  }
 ],
 "metadata": {
  "kernelspec": {
   "display_name": "NLPProject",
   "language": "python",
   "name": "python3"
  },
  "language_info": {
   "codemirror_mode": {
    "name": "ipython",
    "version": 3
   },
   "file_extension": ".py",
   "mimetype": "text/x-python",
   "name": "python",
   "nbconvert_exporter": "python",
   "pygments_lexer": "ipython3",
   "version": "3.10.13"
  }
 },
 "nbformat": 4,
 "nbformat_minor": 2
}
