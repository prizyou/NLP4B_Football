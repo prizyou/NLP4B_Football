{
 "cells": [
  {
   "cell_type": "markdown",
   "metadata": {},
   "source": [
    "This code imports the PRAW library, a Python wrapper for the Reddit API, allowing access to Reddit data. It also imports the MoreComments model from PRAW and the pandas library, enabling data manipulation and analysis using DataFrames."
   ]
  },
  {
   "cell_type": "code",
   "execution_count": 25,
   "metadata": {},
   "outputs": [],
   "source": [
    "import praw\n",
    "from praw.models import MoreComments\n",
    "import pandas as pd\n",
    "import os"
   ]
  },
  {
   "cell_type": "markdown",
   "metadata": {},
   "source": [
    "This code initializes a connection to the Reddit API using the provided client ID, client secret, and user agent. It enables access to Reddit's content and functionalities for data retrieval and analysis."
   ]
  },
  {
   "cell_type": "code",
   "execution_count": 26,
   "metadata": {},
   "outputs": [],
   "source": [
    "reddit = praw.Reddit(client_id='Z2oVhG8VMNytne7QB5RmGA', client_secret='1JGNREK7FHIsbay72Z-aaMfWYhGrMQ', user_agent='NLP')"
   ]
  },
  {
   "cell_type": "markdown",
   "metadata": {},
   "source": [
    "This code defines a list redditIds containing specific Reddit post IDs. It also initializes an empty list comment_data to store data collected from Reddit comments."
   ]
  },
  {
   "cell_type": "code",
   "execution_count": 27,
   "metadata": {},
   "outputs": [],
   "source": [
    "redditIds = [\"2a6bx2\"] \n",
    "comment_data = [] "
   ]
  },
  {
   "cell_type": "markdown",
   "metadata": {},
   "source": [
    "\n",
    "This code iterates over each Reddit post ID in the redditIds list. For each post ID, it fetches the corresponding Reddit post and retrieves its comments. It then filters the comments to include only those with fewer than 80 words, appending them to the comment_data list along with their content."
   ]
  },
  {
   "cell_type": "code",
   "execution_count": 28,
   "metadata": {},
   "outputs": [],
   "source": [
    "for redditId in redditIds:\n",
    "    post = reddit.submission(id=redditId)\n",
    "    comments = post.comments\n",
    "    \n",
    "    for comment in comments:\n",
    "        if isinstance(comment, MoreComments):\n",
    "            continue\n",
    "        if len(comment.body.split()) < 80:\n",
    "            comment_data.append({'Comment': comment.body})"
   ]
  },
  {
   "cell_type": "markdown",
   "metadata": {},
   "source": [
    "This code creates a Pandas DataFrame (df) from the comment_data list, which contains Reddit comments. It adds two new columns to the DataFrame: \"label\", initialized with empty values, and \"source\", set to \"reddit\" for each entry, indicating the origin of the data."
   ]
  },
  {
   "cell_type": "code",
   "execution_count": 29,
   "metadata": {},
   "outputs": [],
   "source": [
    "df = pd.DataFrame(comment_data)\n",
    "df['label'] = ''\n",
    "df[\"source\"] = 'reddit'"
   ]
  },
  {
   "cell_type": "markdown",
   "metadata": {},
   "source": [
    "This block of code opens a file named \"Reddit_IDs.txt\" in write mode, then writes the current Reddit ID (redditId) followed by a newline character to the file. This effectively logs the Reddit ID for tracking purposes."
   ]
  },
  {
   "cell_type": "code",
   "execution_count": 30,
   "metadata": {},
   "outputs": [],
   "source": [
    "with open(\"Reddit_IDs.txt\", \"w\") as file:\n",
    "    file.write(redditId + \"\\n\")"
   ]
  },
  {
   "cell_type": "markdown",
   "metadata": {},
   "source": [
    "This code block checks if the file \"redditComments_NEW.csv\" exists.\n",
    "\n",
    "If the file does not exist, it writes the DataFrame df to the CSV file, including the header. \n",
    "\n",
    "If the file already exists, it appends the DataFrame to the existing CSV file without adding the header again. \n",
    "\n",
    "This ensures that the header is added only once, preventing duplication when the code is reloaded."
   ]
  },
  {
   "cell_type": "code",
   "execution_count": 31,
   "metadata": {},
   "outputs": [],
   "source": [
    "if not os.path.exists(\"redditComments_NEW.csv\"):\n",
    "    df.to_csv(\"redditComments_NEW.csv\", sep=';', index=False, mode='w', header=True)\n",
    "else:\n",
    "    df.to_csv(\"redditComments_NEW.csv\", sep=';', index=False, mode='a', header=False)\n"
   ]
  },
  {
   "cell_type": "markdown",
   "metadata": {},
   "source": [
    "This code displays the first 20 rows of the DataFrame"
   ]
  },
  {
   "cell_type": "code",
   "execution_count": 32,
   "metadata": {},
   "outputs": [
    {
     "data": {
      "text/html": [
       "<div>\n",
       "<style scoped>\n",
       "    .dataframe tbody tr th:only-of-type {\n",
       "        vertical-align: middle;\n",
       "    }\n",
       "\n",
       "    .dataframe tbody tr th {\n",
       "        vertical-align: top;\n",
       "    }\n",
       "\n",
       "    .dataframe thead th {\n",
       "        text-align: right;\n",
       "    }\n",
       "</style>\n",
       "<table border=\"1\" class=\"dataframe\">\n",
       "  <thead>\n",
       "    <tr style=\"text-align: right;\">\n",
       "      <th></th>\n",
       "      <th>Comment</th>\n",
       "      <th>label</th>\n",
       "      <th>source</th>\n",
       "    </tr>\n",
       "  </thead>\n",
       "  <tbody>\n",
       "    <tr>\n",
       "      <th>0</th>\n",
       "      <td>5 - 0 in the first 30 mins... wow...</td>\n",
       "      <td></td>\n",
       "      <td>reddit</td>\n",
       "    </tr>\n",
       "    <tr>\n",
       "      <th>1</th>\n",
       "      <td>\"The last time I saw a brazillian get fucked t...</td>\n",
       "      <td></td>\n",
       "      <td>reddit</td>\n",
       "    </tr>\n",
       "    <tr>\n",
       "      <th>2</th>\n",
       "      <td>Do you know that feeling when you go take a du...</td>\n",
       "      <td></td>\n",
       "      <td>reddit</td>\n",
       "    </tr>\n",
       "    <tr>\n",
       "      <th>3</th>\n",
       "      <td>[deleted]</td>\n",
       "      <td></td>\n",
       "      <td>reddit</td>\n",
       "    </tr>\n",
       "    <tr>\n",
       "      <th>4</th>\n",
       "      <td>What the fuck is happening</td>\n",
       "      <td></td>\n",
       "      <td>reddit</td>\n",
       "    </tr>\n",
       "    <tr>\n",
       "      <th>5</th>\n",
       "      <td>[My reaction to the Germans right now](https:/...</td>\n",
       "      <td></td>\n",
       "      <td>reddit</td>\n",
       "    </tr>\n",
       "    <tr>\n",
       "      <th>6</th>\n",
       "      <td>http://i.imgur.com/duh3R8r.jpg</td>\n",
       "      <td></td>\n",
       "      <td>reddit</td>\n",
       "    </tr>\n",
       "    <tr>\n",
       "      <th>7</th>\n",
       "      <td>http://i.minus.com/i8Noum4fZjDPV.gif</td>\n",
       "      <td></td>\n",
       "      <td>reddit</td>\n",
       "    </tr>\n",
       "    <tr>\n",
       "      <th>8</th>\n",
       "      <td>This is like the Red Wedding of futbol games.</td>\n",
       "      <td></td>\n",
       "      <td>reddit</td>\n",
       "    </tr>\n",
       "    <tr>\n",
       "      <th>9</th>\n",
       "      <td>German here. Love this team, but WTF Brasilia,...</td>\n",
       "      <td></td>\n",
       "      <td>reddit</td>\n",
       "    </tr>\n",
       "    <tr>\n",
       "      <th>10</th>\n",
       "      <td>I´m feeling so sad for the brazilian fans righ...</td>\n",
       "      <td></td>\n",
       "      <td>reddit</td>\n",
       "    </tr>\n",
       "    <tr>\n",
       "      <th>11</th>\n",
       "      <td>7 - 1 - Most embarrassing semi, since I went t...</td>\n",
       "      <td></td>\n",
       "      <td>reddit</td>\n",
       "    </tr>\n",
       "    <tr>\n",
       "      <th>12</th>\n",
       "      <td>7-0 score, I'm a german, but at this point I w...</td>\n",
       "      <td></td>\n",
       "      <td>reddit</td>\n",
       "    </tr>\n",
       "    <tr>\n",
       "      <th>13</th>\n",
       "      <td>I tried uploading the video of the match to Po...</td>\n",
       "      <td></td>\n",
       "      <td>reddit</td>\n",
       "    </tr>\n",
       "    <tr>\n",
       "      <th>14</th>\n",
       "      <td>it's like basketball</td>\n",
       "      <td></td>\n",
       "      <td>reddit</td>\n",
       "    </tr>\n",
       "    <tr>\n",
       "      <th>15</th>\n",
       "      <td>Mit dem Herz in der Hand und der Leidenschaft ...</td>\n",
       "      <td></td>\n",
       "      <td>reddit</td>\n",
       "    </tr>\n",
       "    <tr>\n",
       "      <th>16</th>\n",
       "      <td>When it rains, it pours!</td>\n",
       "      <td></td>\n",
       "      <td>reddit</td>\n",
       "    </tr>\n",
       "    <tr>\n",
       "      <th>17</th>\n",
       "      <td>\"It will be a great game!\", they said.</td>\n",
       "      <td></td>\n",
       "      <td>reddit</td>\n",
       "    </tr>\n",
       "    <tr>\n",
       "      <th>18</th>\n",
       "      <td>This reminds me of the Canucks vs Bruins game ...</td>\n",
       "      <td></td>\n",
       "      <td>reddit</td>\n",
       "    </tr>\n",
       "    <tr>\n",
       "      <th>19</th>\n",
       "      <td>im waiting for the first one who called this m...</td>\n",
       "      <td></td>\n",
       "      <td>reddit</td>\n",
       "    </tr>\n",
       "  </tbody>\n",
       "</table>\n",
       "</div>"
      ],
      "text/plain": [
       "                                              Comment label  source\n",
       "0                5 - 0 in the first 30 mins... wow...        reddit\n",
       "1   \"The last time I saw a brazillian get fucked t...        reddit\n",
       "2   Do you know that feeling when you go take a du...        reddit\n",
       "3                                           [deleted]        reddit\n",
       "4                          What the fuck is happening        reddit\n",
       "5   [My reaction to the Germans right now](https:/...        reddit\n",
       "6                      http://i.imgur.com/duh3R8r.jpg        reddit\n",
       "7                http://i.minus.com/i8Noum4fZjDPV.gif        reddit\n",
       "8      This is like the Red Wedding of futbol games.         reddit\n",
       "9   German here. Love this team, but WTF Brasilia,...        reddit\n",
       "10  I´m feeling so sad for the brazilian fans righ...        reddit\n",
       "11  7 - 1 - Most embarrassing semi, since I went t...        reddit\n",
       "12  7-0 score, I'm a german, but at this point I w...        reddit\n",
       "13  I tried uploading the video of the match to Po...        reddit\n",
       "14                               it's like basketball        reddit\n",
       "15  Mit dem Herz in der Hand und der Leidenschaft ...        reddit\n",
       "16                           When it rains, it pours!        reddit\n",
       "17             \"It will be a great game!\", they said.        reddit\n",
       "18  This reminds me of the Canucks vs Bruins game ...        reddit\n",
       "19  im waiting for the first one who called this m...        reddit"
      ]
     },
     "execution_count": 32,
     "metadata": {},
     "output_type": "execute_result"
    }
   ],
   "source": [
    "df.head(20)"
   ]
  }
 ],
 "metadata": {
  "kernelspec": {
   "display_name": "NLPProject",
   "language": "python",
   "name": "python3"
  },
  "language_info": {
   "codemirror_mode": {
    "name": "ipython",
    "version": 3
   },
   "file_extension": ".py",
   "mimetype": "text/x-python",
   "name": "python",
   "nbconvert_exporter": "python",
   "pygments_lexer": "ipython3",
   "version": "3.10.13"
  }
 },
 "nbformat": 4,
 "nbformat_minor": 2
}
