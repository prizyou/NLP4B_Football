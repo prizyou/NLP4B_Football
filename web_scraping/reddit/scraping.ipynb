{
 "cells": [
  {
   "cell_type": "code",
   "execution_count": 35,
   "metadata": {},
   "outputs": [
    {
     "ename": "AttributeError",
     "evalue": "'str' object has no attribute 'decode'",
     "output_type": "error",
     "traceback": [
      "\u001b[1;31m---------------------------------------------------------------------------\u001b[0m",
      "\u001b[1;31mAttributeError\u001b[0m                            Traceback (most recent call last)",
      "Cell \u001b[1;32mIn[35], line 23\u001b[0m\n\u001b[0;32m     21\u001b[0m \u001b[38;5;28;01mif\u001b[39;00m \u001b[38;5;28misinstance\u001b[39m(comment, MoreComments):\n\u001b[0;32m     22\u001b[0m     \u001b[38;5;28;01mcontinue\u001b[39;00m\n\u001b[1;32m---> 23\u001b[0m d \u001b[38;5;241m=\u001b[39m \u001b[43mcomment\u001b[49m\u001b[38;5;241;43m.\u001b[39;49m\u001b[43mbody\u001b[49m\u001b[38;5;241;43m.\u001b[39;49m\u001b[43mdecode\u001b[49m(\u001b[38;5;124m\"\u001b[39m\u001b[38;5;124mlatin-1\u001b[39m\u001b[38;5;124m\"\u001b[39m)\n\u001b[0;32m     24\u001b[0m \u001b[38;5;28mprint\u001b[39m(d)\n\u001b[0;32m     25\u001b[0m df\u001b[38;5;241m.\u001b[39mappend(comment\u001b[38;5;241m.\u001b[39mbody)\n",
      "\u001b[1;31mAttributeError\u001b[0m: 'str' object has no attribute 'decode'"
     ]
    }
   ],
   "source": [
    "import praw\n",
    "from praw.models import MoreComments\n",
    "import pandas as pd\n",
    "\n",
    "reddit = praw.Reddit(client_id='Z2oVhG8VMNytne7QB5RmGA', client_secret='1JGNREK7FHIsbay72Z-aaMfWYhGrMQ', user_agent='NLP')\n",
    "\n",
    "redditIds=[\"17ye8xb\",\"oi7mkt\",\"181cdpk\"]\n",
    "\n",
    "# ID topics:\n",
    "#   [Germany vs Turkey] Match Thread\n",
    "#   Pre-Match Thread: England vs. Italy | EUROS 2020 - Final\n",
    "#   What did Özil do to receive such hate?\n",
    "\n",
    "df = []\n",
    "\n",
    "for i in redditIds:\n",
    "    post = reddit.submission(id=i)\n",
    "    comments = post.comments\n",
    "    \n",
    "    for comment in comments:\n",
    "        if isinstance(comment, MoreComments):\n",
    "            continue\n",
    "        print(comment.body)\n",
    "        df.append(comment.body)\n",
    "\n",
    "\n",
    "\n",
    "\n",
    "df = pd.DataFrame(df,columns=[\"comment\"])\n",
    "df.to_csv(path_or_buf=r\"C:\\Users\\aliki\\Desktop\\NLP\\NLP4B_Football-2\\web_scraping\\reddit\\redditComments_Ali.csv\", mode='a', header=False) \n",
    "\n",
    "\n"
   ]
  }
 ],
 "metadata": {
  "kernelspec": {
   "display_name": "NLPProject",
   "language": "python",
   "name": "python3"
  },
  "language_info": {
   "codemirror_mode": {
    "name": "ipython",
    "version": 3
   },
   "file_extension": ".py",
   "mimetype": "text/x-python",
   "name": "python",
   "nbconvert_exporter": "python",
   "pygments_lexer": "ipython3",
   "version": "3.10.13"
  }
 },
 "nbformat": 4,
 "nbformat_minor": 2
}
