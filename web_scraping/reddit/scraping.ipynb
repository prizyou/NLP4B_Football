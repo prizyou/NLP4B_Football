{
 "cells": [
  {
   "cell_type": "markdown",
   "metadata": {},
   "source": [
    "This code imports the PRAW library, a Python wrapper for the Reddit API, allowing access to Reddit data. It also imports the MoreComments model from PRAW and the pandas library, enabling data manipulation and analysis using DataFrames."
   ]
  },
  {
   "cell_type": "code",
   "execution_count": 49,
   "metadata": {},
   "outputs": [],
   "source": [
    "import praw\n",
    "from praw.models import MoreComments\n",
    "import pandas as pd\n",
    "import os"
   ]
  },
  {
   "cell_type": "markdown",
   "metadata": {},
   "source": [
    "This code initializes a connection to the Reddit API using the provided client ID, client secret, and user agent. It enables access to Reddit's content and functionalities for data retrieval and analysis."
   ]
  },
  {
   "cell_type": "code",
   "execution_count": 50,
   "metadata": {},
   "outputs": [],
   "source": [
    "reddit = praw.Reddit(client_id='Z2oVhG8VMNytne7QB5RmGA', client_secret='1JGNREK7FHIsbay72Z-aaMfWYhGrMQ', user_agent='NLP')"
   ]
  },
  {
   "cell_type": "markdown",
   "metadata": {},
   "source": [
    "This code defines a list redditIds containing specific Reddit post IDs. It also initializes an empty list comment_data to store data collected from Reddit comments."
   ]
  },
  {
   "cell_type": "code",
   "execution_count": 51,
   "metadata": {},
   "outputs": [],
   "source": [
    "redditIds = [\"15su449\"] \n",
    "comment_data = [] "
   ]
  },
  {
   "cell_type": "markdown",
   "metadata": {},
   "source": [
    "\n",
    "This code iterates through each Reddit post ID in the redditIds list. For each post ID, it retrieves the corresponding Reddit post and its comments. It collects comments with fewer than 80 words into the comment_data list, limiting the total number of comments to 200 (comment_limit). Once the limit is reached, the loop terminates early to avoid collecting additional comments beyond the limit."
   ]
  },
  {
   "cell_type": "code",
   "execution_count": 52,
   "metadata": {},
   "outputs": [],
   "source": [
    "comment_limit = 300\n",
    "\n",
    "for redditId in redditIds:\n",
    "    post = reddit.submission(id=redditId)\n",
    "    comments = post.comments\n",
    "    comment_count = 0\n",
    "    \n",
    "    for comment in comments:\n",
    "        if isinstance(comment, MoreComments):\n",
    "            continue\n",
    "        if len(comment.body.split()) < 80:\n",
    "            comment_data.append({'Comment': comment.body})\n",
    "            comment_count += 1\n",
    "            \n",
    "            if comment_count >= comment_limit:\n",
    "                break"
   ]
  },
  {
   "cell_type": "markdown",
   "metadata": {},
   "source": [
    "This code creates a Pandas DataFrame (df) from the comment_data list, which contains Reddit comments. It adds two new columns to the DataFrame: \"label\", initialized with empty values, and \"source\", set to \"reddit\" for each entry, indicating the origin of the data."
   ]
  },
  {
   "cell_type": "code",
   "execution_count": 53,
   "metadata": {},
   "outputs": [],
   "source": [
    "df = pd.DataFrame(comment_data)\n",
    "df['label'] = ''\n",
    "df[\"source\"] = 'reddit'"
   ]
  },
  {
   "cell_type": "markdown",
   "metadata": {},
   "source": [
    "This block of code opens a file named \"Reddit_IDs.txt\" in write mode, then writes the current Reddit ID (redditId) followed by a newline character to the file. This effectively logs the Reddit ID for tracking purposes."
   ]
  },
  {
   "cell_type": "code",
   "execution_count": 54,
   "metadata": {},
   "outputs": [],
   "source": [
    "with open(\"Reddit_IDs.txt\", \"a\") as file:\n",
    "    file.write(redditId + \"\\n\")"
   ]
  },
  {
   "cell_type": "markdown",
   "metadata": {},
   "source": [
    "This code block checks if the file \"redditComments_NEW.csv\" exists.\n",
    "\n",
    "If the file does not exist, it writes the DataFrame df to the CSV file, including the header. \n",
    "\n",
    "If the file already exists, it appends the DataFrame to the existing CSV file without adding the header again. \n",
    "\n",
    "This ensures that the header is added only once, preventing duplication when the code is reloaded."
   ]
  },
  {
   "cell_type": "code",
   "execution_count": 55,
   "metadata": {},
   "outputs": [],
   "source": [
    "if not os.path.exists(\"redditComments_NEW.csv\"):\n",
    "    df.to_csv(\"redditComments_NEW.csv\", sep=';', index=False, mode='w', header=True)\n",
    "else:\n",
    "    df.to_csv(\"redditComments_NEW.csv\", sep=';', index=False, mode='a', header=False)\n"
   ]
  },
  {
   "cell_type": "markdown",
   "metadata": {},
   "source": [
    "This code displays the first 20 rows of the DataFrame"
   ]
  },
  {
   "cell_type": "code",
   "execution_count": 56,
   "metadata": {},
   "outputs": [
    {
     "data": {
      "text/html": [
       "<div>\n",
       "<style scoped>\n",
       "    .dataframe tbody tr th:only-of-type {\n",
       "        vertical-align: middle;\n",
       "    }\n",
       "\n",
       "    .dataframe tbody tr th {\n",
       "        vertical-align: top;\n",
       "    }\n",
       "\n",
       "    .dataframe thead th {\n",
       "        text-align: right;\n",
       "    }\n",
       "</style>\n",
       "<table border=\"1\" class=\"dataframe\">\n",
       "  <thead>\n",
       "    <tr style=\"text-align: right;\">\n",
       "      <th></th>\n",
       "      <th>Comment</th>\n",
       "      <th>label</th>\n",
       "      <th>source</th>\n",
       "    </tr>\n",
       "  </thead>\n",
       "  <tbody>\n",
       "    <tr>\n",
       "      <th>0</th>\n",
       "      <td>Probably a mixture of factors. 1) our media is...</td>\n",
       "      <td></td>\n",
       "      <td>reddit</td>\n",
       "    </tr>\n",
       "    <tr>\n",
       "      <th>1</th>\n",
       "      <td>For the same reason that one of the post popul...</td>\n",
       "      <td></td>\n",
       "      <td>reddit</td>\n",
       "    </tr>\n",
       "    <tr>\n",
       "      <th>2</th>\n",
       "      <td>They made enemies with half the world for cent...</td>\n",
       "      <td></td>\n",
       "      <td>reddit</td>\n",
       "    </tr>\n",
       "    <tr>\n",
       "      <th>3</th>\n",
       "      <td>The home nations just have England because its...</td>\n",
       "      <td></td>\n",
       "      <td>reddit</td>\n",
       "    </tr>\n",
       "    <tr>\n",
       "      <th>4</th>\n",
       "      <td>•Very egotistical media\\n\\n•Notorious fans\\n\\n...</td>\n",
       "      <td></td>\n",
       "      <td>reddit</td>\n",
       "    </tr>\n",
       "    <tr>\n",
       "      <th>5</th>\n",
       "      <td>Whenever I hear someone bashing England, it’s ...</td>\n",
       "      <td></td>\n",
       "      <td>reddit</td>\n",
       "    </tr>\n",
       "    <tr>\n",
       "      <th>6</th>\n",
       "      <td>English \"fans\" destroyed the center of my town...</td>\n",
       "      <td></td>\n",
       "      <td>reddit</td>\n",
       "    </tr>\n",
       "    <tr>\n",
       "      <th>7</th>\n",
       "      <td>Because people don’t read Spanish media which ...</td>\n",
       "      <td></td>\n",
       "      <td>reddit</td>\n",
       "    </tr>\n",
       "    <tr>\n",
       "      <th>8</th>\n",
       "      <td>In 1995 England came over to Ireland to play a...</td>\n",
       "      <td></td>\n",
       "      <td>reddit</td>\n",
       "    </tr>\n",
       "    <tr>\n",
       "      <th>9</th>\n",
       "      <td>Well, they did used to own a quarter of the wo...</td>\n",
       "      <td></td>\n",
       "      <td>reddit</td>\n",
       "    </tr>\n",
       "    <tr>\n",
       "      <th>10</th>\n",
       "      <td>Hate is strong I don't hate them</td>\n",
       "      <td></td>\n",
       "      <td>reddit</td>\n",
       "    </tr>\n",
       "    <tr>\n",
       "      <th>11</th>\n",
       "      <td>Brazilian here... \\n\\nEven though you are righ...</td>\n",
       "      <td></td>\n",
       "      <td>reddit</td>\n",
       "    </tr>\n",
       "    <tr>\n",
       "      <th>12</th>\n",
       "      <td>No one likes us, we dont care.</td>\n",
       "      <td></td>\n",
       "      <td>reddit</td>\n",
       "    </tr>\n",
       "    <tr>\n",
       "      <th>13</th>\n",
       "      <td>99% of English people I’ve met are absolutely ...</td>\n",
       "      <td></td>\n",
       "      <td>reddit</td>\n",
       "    </tr>\n",
       "    <tr>\n",
       "      <th>14</th>\n",
       "      <td>It don't matter if English never qualified aga...</td>\n",
       "      <td></td>\n",
       "      <td>reddit</td>\n",
       "    </tr>\n",
       "    <tr>\n",
       "      <th>15</th>\n",
       "      <td>Honestly I think other countries just like to ...</td>\n",
       "      <td></td>\n",
       "      <td>reddit</td>\n",
       "    </tr>\n",
       "    <tr>\n",
       "      <th>16</th>\n",
       "      <td>They hate us coz they aint us</td>\n",
       "      <td></td>\n",
       "      <td>reddit</td>\n",
       "    </tr>\n",
       "    <tr>\n",
       "      <th>17</th>\n",
       "      <td>Contrary to other comments, i believe a lot of...</td>\n",
       "      <td></td>\n",
       "      <td>reddit</td>\n",
       "    </tr>\n",
       "    <tr>\n",
       "      <th>18</th>\n",
       "      <td>For me, it's because if you added up their ind...</td>\n",
       "      <td></td>\n",
       "      <td>reddit</td>\n",
       "    </tr>\n",
       "    <tr>\n",
       "      <th>19</th>\n",
       "      <td>Salty crybabies that can't handle the English ...</td>\n",
       "      <td></td>\n",
       "      <td>reddit</td>\n",
       "    </tr>\n",
       "  </tbody>\n",
       "</table>\n",
       "</div>"
      ],
      "text/plain": [
       "                                              Comment label  source\n",
       "0   Probably a mixture of factors. 1) our media is...        reddit\n",
       "1   For the same reason that one of the post popul...        reddit\n",
       "2   They made enemies with half the world for cent...        reddit\n",
       "3   The home nations just have England because its...        reddit\n",
       "4   •Very egotistical media\\n\\n•Notorious fans\\n\\n...        reddit\n",
       "5   Whenever I hear someone bashing England, it’s ...        reddit\n",
       "6   English \"fans\" destroyed the center of my town...        reddit\n",
       "7   Because people don’t read Spanish media which ...        reddit\n",
       "8   In 1995 England came over to Ireland to play a...        reddit\n",
       "9   Well, they did used to own a quarter of the wo...        reddit\n",
       "10                   Hate is strong I don't hate them        reddit\n",
       "11  Brazilian here... \\n\\nEven though you are righ...        reddit\n",
       "12                     No one likes us, we dont care.        reddit\n",
       "13  99% of English people I’ve met are absolutely ...        reddit\n",
       "14  It don't matter if English never qualified aga...        reddit\n",
       "15  Honestly I think other countries just like to ...        reddit\n",
       "16                      They hate us coz they aint us        reddit\n",
       "17  Contrary to other comments, i believe a lot of...        reddit\n",
       "18  For me, it's because if you added up their ind...        reddit\n",
       "19  Salty crybabies that can't handle the English ...        reddit"
      ]
     },
     "execution_count": 56,
     "metadata": {},
     "output_type": "execute_result"
    }
   ],
   "source": [
    "df.head(20)"
   ]
  }
 ],
 "metadata": {
  "kernelspec": {
   "display_name": "NLPProject",
   "language": "python",
   "name": "python3"
  },
  "language_info": {
   "codemirror_mode": {
    "name": "ipython",
    "version": 3
   },
   "file_extension": ".py",
   "mimetype": "text/x-python",
   "name": "python",
   "nbconvert_exporter": "python",
   "pygments_lexer": "ipython3",
   "version": "3.10.13"
  }
 },
 "nbformat": 4,
 "nbformat_minor": 2
}
