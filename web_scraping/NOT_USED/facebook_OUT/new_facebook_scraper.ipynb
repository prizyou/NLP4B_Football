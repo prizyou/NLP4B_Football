{
 "cells": [
  {
   "cell_type": "code",
   "execution_count": 15,
   "metadata": {},
   "outputs": [],
   "source": [
    "import requests\n",
    "from bs4 import BeautifulSoup\n",
    "\n",
    "username = \"Jan Baumgart\"\n",
    "password = \"HalloJan1\"\n",
    "\n",
    "class FaceBookBot():\n",
    "    login_basic_url = 'https://mbasic.facebook.com/login'\n",
    "    login_mobile_url = 'https://m.facebook.com/login'\n",
    "    payload = {\n",
    "            'email': username,\n",
    "            'pass': password\n",
    "        }\n",
    "    post_ID = \"\"\n",
    "\n",
    "    def parse_html(self, request_url):\n",
    "        with requests.Session() as session:\n",
    "            post = session.post(self.login_basic_url, data=self.payload)\n",
    "            parsed_html = session.get(request_url)\n",
    "        return parsed_html\n",
    "\n",
    "    def post_content(self):\n",
    "        REQUEST_URL = f'https://mbasic.facebook.com/story.php?story_fbid={self.post_ID}&id=181744498548976'\n",
    "        \n",
    "        soup = BeautifulSoup(self.parse_html(REQUEST_URL).content, \"html.parser\")\n",
    "        content = soup.find_all('p')\n",
    "        post_content = []\n",
    "        for lines in content:\n",
    "            post_content.append(lines.text)\n",
    "        \n",
    "        post_content = ' '.join(post_content)    \n",
    "        return post_content\n",
    "\n",
    "    def date_posted(self):\n",
    "        REQUEST_URL = f'https://mbasic.facebook.com/story.php?story_fbid={self.post_ID}&id=181744498548976'\n",
    "        \n",
    "        soup = BeautifulSoup(self.parse_html(REQUEST_URL).content, \"html.parser\")\n",
    "        date_posted = soup.find('abbr')\n",
    "        return date_posted.text\n",
    "\n",
    "    def post_likes(self):\n",
    "        limit = 200\n",
    "        REQUEST_URL = f'https://mbasic.facebook.com/ufi/reaction/profile/browser/fetch/?limit={limit}&total_count=17&ft_ent_identifier={self.post_ID}'\n",
    "\n",
    "        soup = BeautifulSoup(self.parse_html(REQUEST_URL).content, \"html.parser\")\n",
    "        names = soup.find_all('h3')\n",
    "        people_who_liked = []\n",
    "        for name in names:\n",
    "            people_who_liked.append(name.text)\n",
    "        people_who_liked = [i for i in people_who_liked if i] \n",
    "        return people_who_liked\n",
    "\n",
    "    def post_shares(self):        \n",
    "        REQUEST_URL = f'https://m.facebook.com/browse/shares?id={self.post_ID}'\n",
    "        \n",
    "        with requests.Session() as session:\n",
    "            post = session.post(self.login_mobile_url, data=self.payload)\n",
    "            parsed_html = session.get(REQUEST_URL)\n",
    "        \n",
    "        soup = BeautifulSoup(parsed_html.content, \"html.parser\")\n",
    "        names = soup.find_all('span')\n",
    "        people_who_shared = []\n",
    "        for name in names:\n",
    "            people_who_shared.append(name.text)\n",
    "        return people_who_shared\n",
    "    \n"
   ]
  },
  {
   "cell_type": "code",
   "execution_count": 16,
   "metadata": {},
   "outputs": [],
   "source": [
    "#858717552920899"
   ]
  },
  {
   "cell_type": "code",
   "execution_count": 17,
   "metadata": {},
   "outputs": [],
   "source": [
    "bot = FaceBookBot()"
   ]
  },
  {
   "cell_type": "code",
   "execution_count": 18,
   "metadata": {},
   "outputs": [],
   "source": [
    "bot.post_ID = \"858717552920899\""
   ]
  },
  {
   "cell_type": "code",
   "execution_count": 19,
   "metadata": {},
   "outputs": [
    {
     "name": "stdout",
     "output_type": "stream",
     "text": [
      "\n"
     ]
    }
   ],
   "source": [
    "print(bot.post_content())"
   ]
  }
 ],
 "metadata": {
  "kernelspec": {
   "display_name": "NLP4B_Project",
   "language": "python",
   "name": "python3"
  },
  "language_info": {
   "codemirror_mode": {
    "name": "ipython",
    "version": 3
   },
   "file_extension": ".py",
   "mimetype": "text/x-python",
   "name": "python",
   "nbconvert_exporter": "python",
   "pygments_lexer": "ipython3",
   "version": "3.10.13"
  }
 },
 "nbformat": 4,
 "nbformat_minor": 2
}
